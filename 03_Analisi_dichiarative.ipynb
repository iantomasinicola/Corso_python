{
 "cells": [
  {
   "cell_type": "markdown",
   "metadata": {},
   "source": [
    "# Analisi dichiarative"
   ]
  },
  {
   "cell_type": "code",
   "execution_count": null,
   "metadata": {},
   "outputs": [],
   "source": [
    "import pandas as pd\n",
    "import numpy as np\n",
    "import datetime\n",
    "#path = r\"C:\\Users\\ianto\\Desktop\\Corso Python\\file\""
   ]
  },
  {
   "cell_type": "markdown",
   "metadata": {},
   "source": [
    "Creiamo una funzione per importare due dei file studiati nella lezione precedente"
   ]
  },
  {
   "cell_type": "code",
   "execution_count": null,
   "metadata": {},
   "outputs": [],
   "source": [
    "def ImportFile():\n",
    "            \n",
    "    clienti = pd.read_csv(filepath_or_buffer = \"Clienti.csv\",\n",
    "            sep = \";\", \n",
    "            header = 0\n",
    "            )  \n",
    "\n",
    "    clienti[\"DataNascita\"] =  pd.to_datetime(clienti[\"DataNascita\"])\n",
    "    \n",
    "    fatture = pd.read_csv(filepath_or_buffer = \"Fatture.csv\",\n",
    "            sep = \";\",  #separtore del file\n",
    "            header = None,\n",
    "            names = [\"NumeroFattura\",\"Tipologia\",\"Importo\",\"Iva\",\"IdCliente\",\"Regione\",\"DataFattura\",\"NumeroFornitore\"],\n",
    "            decimal = \",\",\n",
    "            )\n",
    "    \n",
    "    fatture['DataFattura'] =  pd.to_datetime(fatture['DataFattura'],\n",
    "                                             format=\"%d/%m/%Y\"\n",
    "                                            )  \n",
    "    \n",
    "    fatture['NumeroFornitore'] = fatture['NumeroFornitore'].astype('Int64')\n",
    "\n",
    "    return clienti,fatture"
   ]
  },
  {
   "cell_type": "code",
   "execution_count": null,
   "metadata": {},
   "outputs": [],
   "source": [
    "clienti,fatture = ImportFile()"
   ]
  },
  {
   "cell_type": "code",
   "execution_count": null,
   "metadata": {},
   "outputs": [],
   "source": [
    "fatture.head(5)"
   ]
  },
  {
   "cell_type": "code",
   "execution_count": null,
   "metadata": {},
   "outputs": [],
   "source": [
    "clienti.head(5)"
   ]
  },
  {
   "cell_type": "code",
   "execution_count": null,
   "metadata": {},
   "outputs": [],
   "source": [
    "#Per visualizzare tutte le righe e tutte le colonne\n",
    "pd.set_option('display.max_columns', None)\n",
    "pd.set_option('display.max_rows',None)"
   ]
  },
  {
   "cell_type": "markdown",
   "metadata": {},
   "source": [
    "# Selezionare e filtrare i dati"
   ]
  },
  {
   "cell_type": "markdown",
   "metadata": {},
   "source": [
    "Estrarre le colonne NumeroClienti, Nome e regione dal dataframe Clienti. Visualizzare solo 5 righe\n"
   ]
  },
  {
   "cell_type": "code",
   "execution_count": null,
   "metadata": {},
   "outputs": [],
   "source": [
    "#SELECT TOP 5 NumeroCliente, Nome, Regione \n",
    "#FROM   Clienti\n",
    "\n",
    "clienti[[\"NumeroCliente\", \"Nome\", \"Regione\"]].head(5)"
   ]
  },
  {
   "cell_type": "markdown",
   "metadata": {},
   "source": [
    "Indicando solo il nome del dataframe vedrò tutte le colonne"
   ]
  },
  {
   "cell_type": "code",
   "execution_count": null,
   "metadata": {},
   "outputs": [],
   "source": [
    "#SELECT TOP 5 * \n",
    "#FROM   Clienti\n",
    "\n",
    "clienti.head(5)"
   ]
  },
  {
   "cell_type": "markdown",
   "metadata": {},
   "source": [
    "Estrarre tutte le informazioni dei clienti della regione Lazio"
   ]
  },
  {
   "cell_type": "code",
   "execution_count": null,
   "metadata": {},
   "outputs": [],
   "source": [
    "#SELECT * \n",
    "#FROM   Clienti \n",
    "#WHERE  Regione='Lazio'\n",
    "\n",
    "clienti.query('Regione == \"Lazio\"')"
   ]
  },
  {
   "cell_type": "code",
   "execution_count": null,
   "metadata": {},
   "outputs": [],
   "source": [
    "#vecchio metodo\n",
    "clienti[clienti[\"Regione\"] == \"Lazio\"]"
   ]
  },
  {
   "cell_type": "markdown",
   "metadata": {},
   "source": [
    "## Filtri con AND"
   ]
  },
  {
   "cell_type": "markdown",
   "metadata": {},
   "source": [
    "Estrarre NumeroCliente e Nome dei clienti della regione Lazio che si chiamano Giovanni"
   ]
  },
  {
   "cell_type": "code",
   "execution_count": null,
   "metadata": {},
   "outputs": [],
   "source": [
    "#SELECT NumeroCliente, \n",
    "#       Nome \n",
    "#FROM   Clienti \n",
    "#WHERE  Regione='Lazio'\n",
    "#   AND Nome='Giovanni\n",
    "clienti.query('Regione == \"Lazio\" and Nome == \"Giovanni\"') [[\"NumeroCliente\", \"Nome\"]]"
   ]
  },
  {
   "cell_type": "code",
   "execution_count": null,
   "metadata": {},
   "outputs": [],
   "source": [
    "#vecchio metodo\n",
    "clienti[(clienti[\"Regione\"] == \"Lazio\") & (clienti[\"Nome\"] == \"Giovanni\")] \\\n",
    "       [[\"NumeroCliente\", \"Nome\"]]"
   ]
  },
  {
   "cell_type": "markdown",
   "metadata": {},
   "source": [
    "Possiamo anche dichiarare prima il valore da cercare"
   ]
  },
  {
   "cell_type": "code",
   "execution_count": null,
   "metadata": {},
   "outputs": [],
   "source": [
    "x = \"Lazio\"\n",
    "y = \"Giovanni\""
   ]
  },
  {
   "cell_type": "code",
   "execution_count": null,
   "metadata": {},
   "outputs": [],
   "source": [
    "clienti.query('Regione == @x and Nome == @y') [[\"NumeroCliente\", \"Nome\"]]"
   ]
  },
  {
   "cell_type": "markdown",
   "metadata": {},
   "source": [
    "## Filtri con OR"
   ]
  },
  {
   "cell_type": "markdown",
   "metadata": {},
   "source": [
    "Estrarre NumeroCliente, Nome e regione dei clienti che soddisfano almeno\n",
    "una delle seguenti proprietà:\n",
    "1) sono della regione Lazio\n",
    "\n",
    "2) si chiamano Giovanni"
   ]
  },
  {
   "cell_type": "code",
   "execution_count": null,
   "metadata": {},
   "outputs": [],
   "source": [
    "#SELECT TOP 5 NumeroCliente,\n",
    "#       Nome,\n",
    "#       Regione\n",
    "#FROM   Clienti \n",
    "#WHERE  Regione='Lazio'\n",
    "#    OR Nome='Giovanni\n",
    "\n",
    "clienti.query('Regione == \"Lazio\" or Nome == \"Giovanni\"') [[\"NumeroCliente\", \"Nome\", \"Regione\"]].head(5)"
   ]
  },
  {
   "cell_type": "markdown",
   "metadata": {},
   "source": [
    "## Filtri con isin"
   ]
  },
  {
   "cell_type": "markdown",
   "metadata": {},
   "source": [
    "Estrarre  NumeroCliente, Nome e regione dei clienti residenti nel Lazio\n",
    "o nel Piemonte"
   ]
  },
  {
   "cell_type": "code",
   "execution_count": null,
   "metadata": {},
   "outputs": [],
   "source": [
    "#SELECT NumeroCliente, \n",
    "#       Nome, \n",
    "#       Regione\n",
    "#FROM   Clienti \n",
    "#WHERE  Regione = 'Piemonte'\n",
    "#    OR Regione='Lazio'\n",
    "#oppure\n",
    "#SELECT NumeroCliente, \n",
    "#       Nome, \n",
    "#       Regione\n",
    "#FROM   Clienti \n",
    "#WHERE  Regione IN ('Piemonte', 'Lazio')\n",
    "\n",
    "clienti.query('Regione in [\"Piemonte\",\"Lazio\"]')[[\"NumeroCliente\", \"Nome\",\"Regione\"]]"
   ]
  },
  {
   "cell_type": "markdown",
   "metadata": {},
   "source": [
    "## Attenzione ai tipi!"
   ]
  },
  {
   "cell_type": "markdown",
   "metadata": {},
   "source": [
    "Se cerco una parola in una colonna di tipo intero, non otterrò risultati"
   ]
  },
  {
   "cell_type": "code",
   "execution_count": null,
   "metadata": {},
   "outputs": [],
   "source": [
    "clienti.info()"
   ]
  },
  {
   "cell_type": "code",
   "execution_count": null,
   "metadata": {},
   "outputs": [],
   "source": [
    "clienti.query(\"NumeroCliente == '3'\")"
   ]
  },
  {
   "cell_type": "markdown",
   "metadata": {},
   "source": [
    "Proviamo a convertire la colonna in stringa in un nuovo DataFrame"
   ]
  },
  {
   "cell_type": "code",
   "execution_count": null,
   "metadata": {},
   "outputs": [],
   "source": [
    "clienti2 = clienti.copy()\n",
    "clienti2[\"NumeroCliente\"] = clienti2[\"NumeroCliente\"].astype(str)"
   ]
  },
  {
   "cell_type": "code",
   "execution_count": null,
   "metadata": {},
   "outputs": [],
   "source": [
    "clienti2.query(\"NumeroCliente == '3'\")"
   ]
  },
  {
   "cell_type": "markdown",
   "metadata": {},
   "source": [
    "Viceversa non otterrò risultati con la prossima query"
   ]
  },
  {
   "cell_type": "code",
   "execution_count": null,
   "metadata": {},
   "outputs": [],
   "source": [
    "clienti2.query(\"NumeroCliente == 3 \")"
   ]
  },
  {
   "cell_type": "markdown",
   "metadata": {},
   "source": [
    "## Attenzione ai null! "
   ]
  },
  {
   "cell_type": "markdown",
   "metadata": {},
   "source": [
    "Null risulta diverso da Lazio (non accade lo stesso con l'SQL)"
   ]
  },
  {
   "cell_type": "code",
   "execution_count": null,
   "metadata": {},
   "outputs": [],
   "source": [
    "clienti.query(\"Regione != 'Lazio'\").head(5)"
   ]
  },
  {
   "cell_type": "markdown",
   "metadata": {},
   "source": [
    "estrarre tutte le righe dove la regione è null"
   ]
  },
  {
   "cell_type": "code",
   "execution_count": null,
   "metadata": {},
   "outputs": [],
   "source": [
    "#SELECT *\n",
    "#FROM   Clienti \n",
    "#WHERE  Regione IS NULL\n",
    "\n",
    "clienti.query(\"Regione.isna()\")"
   ]
  },
  {
   "cell_type": "markdown",
   "metadata": {},
   "source": [
    "Estrarre 5 righe dove la regione non è null"
   ]
  },
  {
   "cell_type": "code",
   "execution_count": null,
   "metadata": {},
   "outputs": [],
   "source": [
    "#SELECT TOP 5 *\n",
    "#FROM   Clienti \n",
    "#WHERE  Regione IS NOT NULL\n",
    "\n",
    "clienti.query(\"Regione.notna()\").head(5)"
   ]
  },
  {
   "cell_type": "markdown",
   "metadata": {},
   "source": [
    "## Filtri su colonne di tipo datetime"
   ]
  },
  {
   "cell_type": "markdown",
   "metadata": {},
   "source": [
    "Estrarre tutte le fatture emesse dopo il 3 marzo 2018"
   ]
  },
  {
   "cell_type": "code",
   "execution_count": null,
   "metadata": {},
   "outputs": [],
   "source": [
    "fatture.dtypes"
   ]
  },
  {
   "cell_type": "code",
   "execution_count": null,
   "metadata": {},
   "outputs": [],
   "source": [
    "#SQL\n",
    "#SELECT *\n",
    "#FROM   Fatture\n",
    "#WHERE  DataFattura > '2018-03-01'\n",
    "\n",
    "fatture.query(\"DataFattura > '2018-03-01'\")"
   ]
  },
  {
   "cell_type": "markdown",
   "metadata": {},
   "source": [
    "Vediamo come utilizzare una variabile"
   ]
  },
  {
   "cell_type": "code",
   "execution_count": null,
   "metadata": {},
   "outputs": [],
   "source": [
    "from datetime import datetime\n",
    "data = datetime(2018,3,1)\n",
    "fatture.query(\"DataFattura > @data\")"
   ]
  },
  {
   "cell_type": "markdown",
   "metadata": {},
   "source": [
    "## Filtri su funzioni applicate a colonne"
   ]
  },
  {
   "cell_type": "markdown",
   "metadata": {},
   "source": [
    "Estrarre tutte le fatture del 2018"
   ]
  },
  {
   "cell_type": "code",
   "execution_count": null,
   "metadata": {},
   "outputs": [],
   "source": [
    "#SELECT *\n",
    "#FROM   Fatture\n",
    "#WHERE  YEAR(DataFattura) = 2018\n",
    "\n",
    "fatture.query(\"DataFattura.dt.year == 2018\")"
   ]
  },
  {
   "cell_type": "markdown",
   "metadata": {},
   "source": [
    "Estrarre tutti i clienti di nome Nicola, facendo una ricerca non case sensitive"
   ]
  },
  {
   "cell_type": "code",
   "execution_count": null,
   "metadata": {},
   "outputs": [],
   "source": [
    "clienti.query(\"Nome.str.upper() == 'NICOLA'\")"
   ]
  },
  {
   "cell_type": "markdown",
   "metadata": {},
   "source": [
    "# Aggregare i dati"
   ]
  },
  {
   "cell_type": "markdown",
   "metadata": {},
   "source": [
    "## Contare il numero di righe"
   ]
  },
  {
   "cell_type": "markdown",
   "metadata": {},
   "source": [
    "Contare il numero di righe del dataframe Fatture"
   ]
  },
  {
   "cell_type": "code",
   "execution_count": null,
   "metadata": {},
   "outputs": [],
   "source": [
    "#SELECT COUNT(*)\n",
    "#FROM   Fatture\n",
    "\n",
    "len(fatture)"
   ]
  },
  {
   "cell_type": "code",
   "execution_count": null,
   "metadata": {},
   "outputs": [],
   "source": [
    "#oppure\n",
    "fatture.shape[0]"
   ]
  },
  {
   "cell_type": "markdown",
   "metadata": {},
   "source": [
    "## Calcolare indici statistici su tutte le colonne"
   ]
  },
  {
   "cell_type": "markdown",
   "metadata": {},
   "source": [
    "Calcolare la somma di tutte le colonne"
   ]
  },
  {
   "cell_type": "code",
   "execution_count": null,
   "metadata": {},
   "outputs": [],
   "source": [
    "fatture.sum(numeric_only=True)"
   ]
  },
  {
   "cell_type": "markdown",
   "metadata": {},
   "source": [
    "Se volessi solo il dato di importo scriverei"
   ]
  },
  {
   "cell_type": "code",
   "execution_count": null,
   "metadata": {},
   "outputs": [],
   "source": [
    "fatture.sum(numeric_only=True)[\"Importo\"]"
   ]
  },
  {
   "cell_type": "markdown",
   "metadata": {},
   "source": [
    "Calcolare i principali indici statistici di tutte le colonne"
   ]
  },
  {
   "cell_type": "code",
   "execution_count": null,
   "metadata": {},
   "outputs": [],
   "source": [
    "fatture.describe()"
   ]
  },
  {
   "cell_type": "markdown",
   "metadata": {},
   "source": [
    "Calcolare correlazioni tra colonne numeriche di un DataFrame"
   ]
  },
  {
   "cell_type": "code",
   "execution_count": null,
   "metadata": {},
   "outputs": [],
   "source": [
    "fatture.corr(numeric_only=True)"
   ]
  },
  {
   "cell_type": "markdown",
   "metadata": {},
   "source": [
    "## Aggregare su una colonna"
   ]
  },
  {
   "cell_type": "markdown",
   "metadata": {},
   "source": [
    "Calcolare il numero di Fatture per ogni fornitore "
   ]
  },
  {
   "cell_type": "code",
   "execution_count": null,
   "metadata": {},
   "outputs": [],
   "source": [
    "#SELECT   NumeroFornitore, count(*)\n",
    "#FROM     Fatture\n",
    "#GROUP BY NumeroFornitore;\n",
    "\n",
    "fatture.groupby(by=\"NumeroFornitore\",\n",
    "                as_index=False, \n",
    "                dropna=False\n",
    "               )[\"NumeroFattura\"].size()"
   ]
  },
  {
   "cell_type": "markdown",
   "metadata": {},
   "source": [
    "Se eventualmente voglio cambiare il nome della colonna con il conteggio posso usare il metodo rename"
   ]
  },
  {
   "cell_type": "code",
   "execution_count": null,
   "metadata": {},
   "outputs": [],
   "source": [
    "fatture.groupby(by=\"NumeroFornitore\",\n",
    "                as_index=False, \n",
    "                dropna=False)[\"NumeroFattura\"].size().rename(columns={\"size\":\"numero_totale\"})"
   ]
  },
  {
   "cell_type": "markdown",
   "metadata": {},
   "source": [
    "Altro metodo"
   ]
  },
  {
   "cell_type": "code",
   "execution_count": null,
   "metadata": {},
   "outputs": [],
   "source": [
    "#SELECT   NumeroFornitore, count(*)\n",
    "#FROM     Fatture\n",
    "#GROUP BY NumeroFornitore;\n",
    "\n",
    "fatture.groupby(by=\"NumeroFornitore\",\n",
    "                as_index=False, \n",
    "                dropna=False) \\\n",
    "       .agg(conteggio   = (\"NumeroFattura\",\n",
    "                           np.size)\n",
    "            )"
   ]
  },
  {
   "cell_type": "markdown",
   "metadata": {},
   "source": [
    "I dati raggruppati si presentano ad essere rappresentati graficamente"
   ]
  },
  {
   "cell_type": "code",
   "execution_count": null,
   "metadata": {},
   "outputs": [],
   "source": [
    "grafico = fatture.groupby(by=\"NumeroFornitore\",\n",
    "                          as_index=False, \n",
    "                          dropna=False).size() \n",
    "\n",
    "grafico.plot(x = 'NumeroFornitore',\n",
    "             y = 'size',\n",
    "             kind = 'bar')"
   ]
  },
  {
   "cell_type": "markdown",
   "metadata": {},
   "source": [
    "## Altri esempi di aggregazione"
   ]
  },
  {
   "cell_type": "markdown",
   "metadata": {},
   "source": [
    "Somma degli importi per ogni fornitore"
   ]
  },
  {
   "cell_type": "code",
   "execution_count": null,
   "metadata": {},
   "outputs": [],
   "source": [
    "fatture.groupby(by=[\"NumeroFornitore\"], \n",
    "                as_index=False,\n",
    "                dropna=False)[[\"Importo\"]].sum()"
   ]
  },
  {
   "cell_type": "markdown",
   "metadata": {},
   "source": [
    "Media di importi e iva per ogni fornitore"
   ]
  },
  {
   "cell_type": "code",
   "execution_count": null,
   "metadata": {},
   "outputs": [],
   "source": [
    "fatture.groupby(by=[\"NumeroFornitore\"], \n",
    "                as_index=False, \n",
    "                dropna=False)[[\"Importo\",\"Iva\"]].mean().rename(columns={\"Importo\":\"Importo_medio\"})"
   ]
  },
  {
   "cell_type": "markdown",
   "metadata": {},
   "source": [
    "Somma di importo e media di iva per ogni fornitore e cliente"
   ]
  },
  {
   "cell_type": "code",
   "execution_count": null,
   "metadata": {
    "scrolled": true
   },
   "outputs": [],
   "source": [
    "fatture.groupby(by=[\"NumeroFornitore\",\"IdCliente\"], as_index=False, dropna=False).\\\n",
    "        agg({\"Importo\":\"sum\",\"Iva\":\"mean\"}).\\\n",
    "        rename(columns={\"Importo\":\"Somma importo\", \"Iva\":\"Media iva\"}).head(10)"
   ]
  },
  {
   "cell_type": "markdown",
   "metadata": {},
   "source": [
    "Numero di clienti univoci"
   ]
  },
  {
   "cell_type": "code",
   "execution_count": null,
   "metadata": {},
   "outputs": [],
   "source": [
    "fatture[\"IdCliente\"].nunique()"
   ]
  },
  {
   "cell_type": "markdown",
   "metadata": {},
   "source": [
    "Numero di clienti univoci al variare del fornitore"
   ]
  },
  {
   "cell_type": "code",
   "execution_count": null,
   "metadata": {},
   "outputs": [],
   "source": [
    "fatture.groupby(by=[\"NumeroFornitore\"], \n",
    "                as_index=False, dropna=False)[\"IdCliente\"].nunique()"
   ]
  },
  {
   "cell_type": "markdown",
   "metadata": {},
   "source": [
    "Numero di regioni presenti nel Dataframe dei clienti"
   ]
  },
  {
   "cell_type": "code",
   "execution_count": null,
   "metadata": {},
   "outputs": [],
   "source": [
    "clienti[\"Regione\"].nunique()"
   ]
  },
  {
   "cell_type": "markdown",
   "metadata": {},
   "source": [
    "Elenco di regioni univoche"
   ]
  },
  {
   "cell_type": "code",
   "execution_count": null,
   "metadata": {},
   "outputs": [],
   "source": [
    "clienti[[\"Regione\"]].drop_duplicates()"
   ]
  },
  {
   "cell_type": "markdown",
   "metadata": {},
   "source": [
    "# Combinare dataframe differenti"
   ]
  },
  {
   "cell_type": "markdown",
   "metadata": {},
   "source": [
    "Riportare in un solo dataframe tutte le colonne dei dataframe Fatture e Clienti."
   ]
  },
  {
   "cell_type": "code",
   "execution_count": null,
   "metadata": {},
   "outputs": [],
   "source": [
    "fatture.head(1)"
   ]
  },
  {
   "cell_type": "code",
   "execution_count": null,
   "metadata": {},
   "outputs": [],
   "source": [
    "#SELECT     TOP 5 *\n",
    "#FROM       Fatture\n",
    "#INNER JOIN Clienti\n",
    "# ON Fatture.IdCliente = Clienti.NumeroCliente\n",
    "\n",
    "f2 = pd.merge(fatture, \n",
    "         clienti, \n",
    "         how = 'inner',\n",
    "         left_on = \"IdCliente\", \n",
    "         right_on = \"NumeroCliente\",\n",
    "         suffixes = ('_fatture', '_clienti'))"
   ]
  },
  {
   "cell_type": "code",
   "execution_count": null,
   "metadata": {},
   "outputs": [],
   "source": [
    "f2.head(1)"
   ]
  },
  {
   "cell_type": "markdown",
   "metadata": {},
   "source": [
    "Esercizio: estrarre NumeroCliente e nome dei clienti senza fatture"
   ]
  },
  {
   "cell_type": "code",
   "execution_count": null,
   "metadata": {},
   "outputs": [],
   "source": [
    "#SQL\n",
    "#SELECT    TOP 5 Clienti.NumeroCliente, Clienti.Nome\n",
    "#FROM      Clienti\n",
    "#LEFT JOIN Fatture\n",
    "#       ON Clienti.NumeroCliente = Fatture.IdCliente\n",
    "#WHERE F.IdCliente IS NULL\n",
    "\n",
    "pd.merge(clienti,\n",
    "         fatture,\n",
    "         how = 'left',\n",
    "         left_on = \"NumeroCliente\",\n",
    "         right_on = \"IdCliente\").query(\"IdCliente.isna()\")[[\"NumeroCliente\",\"Nome\"]].head(5)\n"
   ]
  },
  {
   "cell_type": "markdown",
   "metadata": {},
   "source": [
    "# Ordinare un dataframe"
   ]
  },
  {
   "cell_type": "markdown",
   "metadata": {},
   "source": [
    "## Ordinare un dataframe per una colonna"
   ]
  },
  {
   "cell_type": "markdown",
   "metadata": {},
   "source": [
    "Visualizzare le fatture dalla più recente alla meno recente"
   ]
  },
  {
   "cell_type": "code",
   "execution_count": null,
   "metadata": {},
   "outputs": [],
   "source": [
    "#SQL\n",
    "#SELECT TOP 5 *\n",
    "#FROM   Fatture\n",
    "#ORDER BY DataFattura DESC\n",
    "\n",
    "fatture.sort_values(by=['Importo'], ascending=False).head(5)"
   ]
  },
  {
   "cell_type": "markdown",
   "metadata": {},
   "source": [
    "Creare un nuovo dataframe con il nuovo ordine"
   ]
  },
  {
   "cell_type": "code",
   "execution_count": null,
   "metadata": {},
   "outputs": [],
   "source": [
    "fatture_new = fatture.sort_values(by=['DataFattura'], ascending=False).copy()\n",
    "fatture_new.head(5)"
   ]
  },
  {
   "cell_type": "markdown",
   "metadata": {},
   "source": [
    "Resettiamo l'indice di FattureNew"
   ]
  },
  {
   "cell_type": "code",
   "execution_count": null,
   "metadata": {},
   "outputs": [],
   "source": [
    "fatture_new = fatture_new.reset_index(drop=True)\n",
    "fatture_new.head(5)"
   ]
  },
  {
   "cell_type": "markdown",
   "metadata": {},
   "source": [
    "## Ordinare un dataframe in maniera randomica "
   ]
  },
  {
   "cell_type": "markdown",
   "metadata": {},
   "source": [
    "Visualizzare il dataframe Fatture con un ordinamento randomico"
   ]
  },
  {
   "cell_type": "code",
   "execution_count": null,
   "metadata": {},
   "outputs": [],
   "source": [
    "fatture.sample(frac=1,\n",
    "               random_state=0 #per rendere l'ordinamento ripetibile)\n",
    "              ).head(5)"
   ]
  },
  {
   "cell_type": "markdown",
   "metadata": {},
   "source": [
    "# Modificare un dataframe"
   ]
  },
  {
   "cell_type": "markdown",
   "metadata": {},
   "source": [
    "## Copiare un dataframe"
   ]
  },
  {
   "cell_type": "markdown",
   "metadata": {},
   "source": [
    "Copiare il dataframe Clienti in ClientiBis"
   ]
  },
  {
   "cell_type": "code",
   "execution_count": null,
   "metadata": {},
   "outputs": [],
   "source": [
    "#SQL\n",
    "#SELECT *\n",
    "#INTO   ClientiBis\n",
    "#FROM   Clienti\n",
    "\n",
    "clienti_bis = clienti.copy()"
   ]
  },
  {
   "cell_type": "markdown",
   "metadata": {},
   "source": [
    "## Convertire un dataframe in un array di numpy"
   ]
  },
  {
   "cell_type": "markdown",
   "metadata": {},
   "source": [
    "Creare un array di numpy a partire dal dataframe clienti"
   ]
  },
  {
   "cell_type": "code",
   "execution_count": null,
   "metadata": {},
   "outputs": [],
   "source": [
    "array = clienti.values"
   ]
  },
  {
   "cell_type": "code",
   "execution_count": null,
   "metadata": {},
   "outputs": [],
   "source": [
    "type(array)"
   ]
  },
  {
   "cell_type": "code",
   "execution_count": null,
   "metadata": {},
   "outputs": [],
   "source": [
    "array[0:4]"
   ]
  },
  {
   "cell_type": "markdown",
   "metadata": {},
   "source": [
    "## Convertire un dataframe in una lista di liste"
   ]
  },
  {
   "cell_type": "markdown",
   "metadata": {},
   "source": [
    "Convertire il dataframe Clienti in una lista"
   ]
  },
  {
   "cell_type": "code",
   "execution_count": null,
   "metadata": {},
   "outputs": [],
   "source": [
    "lista_clienti = clienti.values.tolist()"
   ]
  },
  {
   "cell_type": "code",
   "execution_count": null,
   "metadata": {},
   "outputs": [],
   "source": [
    "type(lista_clienti)"
   ]
  },
  {
   "cell_type": "code",
   "execution_count": null,
   "metadata": {},
   "outputs": [],
   "source": [
    "lista_clienti[0:4]"
   ]
  },
  {
   "cell_type": "markdown",
   "metadata": {},
   "source": [
    "## Creare un dataframe a partire da una lista"
   ]
  },
  {
   "cell_type": "markdown",
   "metadata": {},
   "source": [
    "Creare un dataframe a partire da una lista, assegnando i nomi alle colonne"
   ]
  },
  {
   "cell_type": "code",
   "execution_count": null,
   "metadata": {},
   "outputs": [],
   "source": [
    "new_df = pd.DataFrame(data = lista_clienti, \n",
    "                     columns = ['NumeroCliente', 'Nome', 'Cognome', 'DataNascita', 'Regione'] )"
   ]
  },
  {
   "cell_type": "code",
   "execution_count": null,
   "metadata": {},
   "outputs": [],
   "source": [
    "new_df.dtypes"
   ]
  },
  {
   "cell_type": "markdown",
   "metadata": {},
   "source": [
    "## Rinominare una colonna "
   ]
  },
  {
   "cell_type": "markdown",
   "metadata": {},
   "source": [
    "Rinominare la colonna Iva del dataframe Fatture in Tax"
   ]
  },
  {
   "cell_type": "code",
   "execution_count": null,
   "metadata": {},
   "outputs": [],
   "source": [
    "fatture = fatture.rename(columns={\"Iva\": \"Tax\"})\n",
    "fatture.head(3)"
   ]
  },
  {
   "cell_type": "markdown",
   "metadata": {},
   "source": [
    "## Eliminare una colonna "
   ]
  },
  {
   "cell_type": "markdown",
   "metadata": {},
   "source": [
    "Eliminare la colonna NumeroFornitore dal dataframe Fatture"
   ]
  },
  {
   "cell_type": "code",
   "execution_count": null,
   "metadata": {},
   "outputs": [],
   "source": [
    "fatture.columns"
   ]
  },
  {
   "cell_type": "code",
   "execution_count": null,
   "metadata": {},
   "outputs": [],
   "source": [
    "#SQL\n",
    "#ALTER TABLE Fatture\n",
    "#DROP COLUMN NumeroFornitore\n",
    "\n",
    "fatture = fatture.drop([\"NumeroFornitore\"], axis=1)\n",
    "#fatture.head(3)"
   ]
  },
  {
   "cell_type": "markdown",
   "metadata": {},
   "source": [
    "## Aggiornare una colonna"
   ]
  },
  {
   "cell_type": "markdown",
   "metadata": {},
   "source": [
    "Guardiamo i clienti della regione Lazio"
   ]
  },
  {
   "cell_type": "code",
   "execution_count": null,
   "metadata": {},
   "outputs": [],
   "source": [
    "clienti.query(\"Regione == 'Lazio'\")"
   ]
  },
  {
   "cell_type": "markdown",
   "metadata": {},
   "source": [
    "Modificare il nome di tutti i clienti della regione Lazio valorizzandolo con \"Nicola\""
   ]
  },
  {
   "cell_type": "code",
   "execution_count": null,
   "metadata": {},
   "outputs": [],
   "source": [
    "#SQL\n",
    "#UPDATE Clienti\n",
    "#SET    Nome = 'Nicola'\n",
    "#WHERE  Regione = 'Lazio'\n",
    "\n",
    "clienti.loc[clienti[\"Regione\"] == \"Lazio\", \"Nome\"] = 'Nicola'"
   ]
  },
  {
   "cell_type": "code",
   "execution_count": null,
   "metadata": {},
   "outputs": [],
   "source": [
    "clienti.query(\"Regione == 'Lazio'\")"
   ]
  },
  {
   "cell_type": "code",
   "execution_count": null,
   "metadata": {},
   "outputs": [],
   "source": [
    "#oppure\n",
    "\n",
    "clienti[\"Nome\"] = np.where(clienti[\"Regione\"] == \"Lazio\", \n",
    "                           \"Nicola\", \n",
    "                           clienti[\"Nome\"]  )"
   ]
  },
  {
   "cell_type": "markdown",
   "metadata": {},
   "source": [
    "## Aggiornare una colonna sostituendo i null con un valore"
   ]
  },
  {
   "cell_type": "markdown",
   "metadata": {},
   "source": [
    "Sostituire i null presenti nella colonna Regione del dataframe Cliente con la stringa \"Non conosciuta\""
   ]
  },
  {
   "cell_type": "code",
   "execution_count": null,
   "metadata": {},
   "outputs": [],
   "source": [
    "#SQL\n",
    "#UPDATE Clienti\n",
    "#SET    Regione = COALESCE(Regione,'Non conosciuta')\n",
    "#WHERE  Regione IS NULL\n",
    "\n",
    "clienti[\"Regione\"] = clienti[\"Regione\"].fillna(\"Non conosciuta\")"
   ]
  },
  {
   "cell_type": "code",
   "execution_count": null,
   "metadata": {},
   "outputs": [],
   "source": [
    "clienti.head(3)"
   ]
  },
  {
   "cell_type": "markdown",
   "metadata": {},
   "source": [
    "## Concatenare una colonna"
   ]
  },
  {
   "cell_type": "markdown",
   "metadata": {},
   "source": [
    "Concatenare le colonne Nazione e Regione del dataframe clienti.\n",
    "\n",
    "Attenzione, in presenza di un null il risultato della concatenazione sarà null. Per evitare che ciò accada, il metodo fillna può essere usato per sostituire i null con ''."
   ]
  },
  {
   "cell_type": "code",
   "execution_count": null,
   "metadata": {},
   "outputs": [],
   "source": [
    "clienti[\"ColonnaConcatenata\"] = clienti[\"Nazione\"].fillna(\"\") + \",\" + clienti[\"Regione\"].fillna(\"\")\n",
    "clienti.head(3)"
   ]
  },
  {
   "cell_type": "markdown",
   "metadata": {},
   "source": [
    "## Splittare una colonna"
   ]
  },
  {
   "cell_type": "markdown",
   "metadata": {},
   "source": [
    "Splittare tramite la virgola la colonna appena creata in due colonne: ColonnaSplit1 e ColonnaSplit2"
   ]
  },
  {
   "cell_type": "code",
   "execution_count": null,
   "metadata": {},
   "outputs": [],
   "source": [
    "clienti[[\"ColonnaSplit1\",\"ColonnaSplit2\"]] = clienti[\"ColonnaConcatenata\"].str.split(pat = ',', expand=True)\n",
    "clienti.head(3)"
   ]
  },
  {
   "cell_type": "markdown",
   "metadata": {},
   "source": [
    "## Creare una colonna in base ad una condizione"
   ]
  },
  {
   "cell_type": "markdown",
   "metadata": {},
   "source": [
    "Creare nel dataframe Fatture la colonna TipologiaPrezzo contenente \"Prezzo alto\" se il valore della colonna Importo è maggiore di 50, \"Prezzo basso\" altrimenti."
   ]
  },
  {
   "cell_type": "code",
   "execution_count": null,
   "metadata": {},
   "outputs": [],
   "source": [
    "#SQL\n",
    "#CASE WHEN Importo > 50 \n",
    "#     THEN 'Prezzo alto'\n",
    "#     ELSE 'Prezzo basso'\n",
    "#END\n",
    "\n",
    "fatture[\"TipologiaPrezzo\"] = np.where(fatture[\"Importo\"] > 50, \"Prezzo alto\", \"Prezzo basso\")\n",
    "fatture.head(5)"
   ]
  },
  {
   "cell_type": "markdown",
   "metadata": {},
   "source": [
    "## Creare una colonna in base a più condizioni"
   ]
  },
  {
   "cell_type": "markdown",
   "metadata": {},
   "source": [
    "Creare nel dataframe Fatture la colonna TipologiaPrezzo contenente:\n",
    "\n",
    "- \"Prezzo alto\" se il valore della colonna Importo è maggiore di 50 \n",
    "\n",
    "- \"Prezzo medio\" se è compreso tra 30(escluso) e 50(incluso)\n",
    "\n",
    "- \"Prezzo basso\" se minore o uguale a 30"
   ]
  },
  {
   "cell_type": "code",
   "execution_count": null,
   "metadata": {},
   "outputs": [],
   "source": [
    "fatture[\"TipologiaPrezzo2\"] = np.select([fatture[\"Importo\"] > 50, \n",
    "                                         (fatture[\"Importo\"] > 30) & (fatture[\"Importo\"] <=50),\n",
    "                                         fatture[\"Importo\"] <= 30],\n",
    "                                         [\"Prezzo alto\", \n",
    "                                          \"Prezzo medio\",\n",
    "                                          \"Prezzo basso\"],\n",
    "                                          default='Non classificato')\n",
    "fatture.head(5)"
   ]
  },
  {
   "cell_type": "markdown",
   "metadata": {},
   "source": [
    "## Creare colonne con porzioni di stringhe di un'altra colonna"
   ]
  },
  {
   "cell_type": "markdown",
   "metadata": {},
   "source": [
    "Creare una colonna con le iniziali di nome e cognome per ogni cliente"
   ]
  },
  {
   "cell_type": "code",
   "execution_count": null,
   "metadata": {},
   "outputs": [],
   "source": [
    "#SQL\n",
    "#SUBSTRING(Nome,1,1)\n",
    "\n",
    "clienti[\"Iniziale\"] =  clienti[\"Nome\"].str.slice(start=0, stop =1)\n",
    "clienti.head(3)"
   ]
  },
  {
   "cell_type": "markdown",
   "metadata": {},
   "source": [
    "## Visualizzare i dati senza duplicati"
   ]
  },
  {
   "cell_type": "markdown",
   "metadata": {},
   "source": [
    "Il prossimo codice visualizza le righe del DataFrame clienti senza duplicati (considerando i valori in tutte le colonne). \n",
    "\n",
    "ATTENZIONE! Per DataFrame con molte righe può essere un'operazione molto lunga"
   ]
  },
  {
   "cell_type": "code",
   "execution_count": null,
   "metadata": {},
   "outputs": [],
   "source": [
    "clienti.drop_duplicates().head(3)"
   ]
  },
  {
   "cell_type": "markdown",
   "metadata": {},
   "source": [
    "Più utile è utilizzare drop_duplicates per ottenere l'elenco di valori distinti in una colonna (o combinazione di colonne)"
   ]
  },
  {
   "cell_type": "code",
   "execution_count": null,
   "metadata": {},
   "outputs": [],
   "source": [
    "#Elenco delle regioni presenti: primo metodo\n",
    "\n",
    "clienti[[\"Regione\"]].drop_duplicates()"
   ]
  },
  {
   "cell_type": "code",
   "execution_count": null,
   "metadata": {},
   "outputs": [],
   "source": [
    "#Elenco delle regioni presenti: secondo metodo\n",
    "\n",
    "clienti.drop_duplicates(subset=[\"Regione\"], keep = \"first\")"
   ]
  },
  {
   "cell_type": "code",
   "execution_count": null,
   "metadata": {},
   "outputs": [],
   "source": [
    "#Proviamo a ordinare prima il DataFrame"
   ]
  },
  {
   "cell_type": "code",
   "execution_count": null,
   "metadata": {
    "scrolled": true
   },
   "outputs": [],
   "source": [
    "clienti.sort_values(by=\"DataNascita\",ascending=False).drop_duplicates(subset=[\"Regione\"], keep = \"first\")"
   ]
  },
  {
   "cell_type": "markdown",
   "metadata": {},
   "source": [
    "## Pivot e unpivot dei dati"
   ]
  },
  {
   "cell_type": "markdown",
   "metadata": {},
   "source": [
    "Raggruppiamo i dati per cliente e tipologia"
   ]
  },
  {
   "cell_type": "code",
   "execution_count": null,
   "metadata": {},
   "outputs": [],
   "source": [
    "df = fatture.groupby(by=[\"IdCliente\",\"Tipologia\"], as_index=False, dropna=False)[\"Importo\"].sum()\n",
    "\n",
    "df"
   ]
  },
  {
   "cell_type": "markdown",
   "metadata": {},
   "source": [
    "Modifichiamo la forma dell'output, visualizziamo una per ogni cliente due colonne per gli importi in A e V"
   ]
  },
  {
   "cell_type": "code",
   "execution_count": null,
   "metadata": {},
   "outputs": [],
   "source": [
    "df_pivot = df.pivot(columns = \"Tipologia\",  #da quale colonna dell'input costruire le colonne dell'output\n",
    "                    index = \"IdCliente\",    #quale sarà l'indice del nuovo dataframe\n",
    "                    values = \"Importo\" #cosa riportare nelle righe\n",
    "                    )\n",
    "df_pivot"
   ]
  },
  {
   "cell_type": "markdown",
   "metadata": {},
   "source": [
    "L'IdCliente è l'indice del dataframe"
   ]
  },
  {
   "cell_type": "code",
   "execution_count": null,
   "metadata": {},
   "outputs": [],
   "source": [
    "df_pivot.index"
   ]
  },
  {
   "cell_type": "markdown",
   "metadata": {},
   "source": [
    "Rendiamolo una colonna"
   ]
  },
  {
   "cell_type": "code",
   "execution_count": null,
   "metadata": {},
   "outputs": [],
   "source": [
    "df_pivot.reset_index()"
   ]
  },
  {
   "cell_type": "markdown",
   "metadata": {},
   "source": [
    "eliminiamo il nome dell'indice"
   ]
  },
  {
   "cell_type": "code",
   "execution_count": null,
   "metadata": {},
   "outputs": [],
   "source": [
    "df_pivot = df_pivot.reset_index().rename_axis(None, axis=1)\n",
    "df_pivot"
   ]
  },
  {
   "cell_type": "markdown",
   "metadata": {},
   "source": [
    "Torniamo alla visualizzazione con le colonne IdCliente e Tipologia con unpivot"
   ]
  },
  {
   "cell_type": "code",
   "execution_count": null,
   "metadata": {},
   "outputs": [],
   "source": [
    "df_unpivot = pd.melt(df_pivot, \n",
    "        id_vars='IdCliente', #colonna da lasciare nell'outoput\n",
    "        value_vars=list(df_pivot.columns).remove(\"IdCliente\"), #colonne da trasformare in righe\n",
    "        var_name='Tipologia', #nome della nuova colonna contenente le vecche colonne \n",
    "        value_name='Importo' #nome della nuova colonna contenente i valori\n",
    "                    )\n",
    "\n",
    "df_unpivot"
   ]
  }
 ],
 "metadata": {
  "kernelspec": {
   "display_name": "Python 3 (ipykernel)",
   "language": "python",
   "name": "python3"
  },
  "language_info": {
   "codemirror_mode": {
    "name": "ipython",
    "version": 3
   },
   "file_extension": ".py",
   "mimetype": "text/x-python",
   "name": "python",
   "nbconvert_exporter": "python",
   "pygments_lexer": "ipython3",
   "version": "3.13.3"
  }
 },
 "nbformat": 4,
 "nbformat_minor": 4
}
