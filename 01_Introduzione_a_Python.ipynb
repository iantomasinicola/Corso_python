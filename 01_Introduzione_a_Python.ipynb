{
 "cells": [
  {
   "cell_type": "markdown",
   "id": "04c05fcf-c7c8-4c67-a829-89de645c2df6",
   "metadata": {},
   "source": [
    "# In Python tutto è un oggetto! "
   ]
  },
  {
   "cell_type": "markdown",
   "id": "864a8ca5-3b0f-4d5d-b73b-64659d54873c",
   "metadata": {},
   "source": [
    "### Oggetti di tipo intero, float, stringa, null, bool e tuple"
   ]
  },
  {
   "cell_type": "markdown",
   "id": "d78edde5-4c90-45b0-b998-a9602cea7cec",
   "metadata": {},
   "source": [
    "#### Stringhe"
   ]
  },
  {
   "cell_type": "markdown",
   "id": "58194b13-de61-4f4f-bc32-dd7985e6eeb4",
   "metadata": {},
   "source": [
    "Stampiamo l'oggetto \"Hello World\""
   ]
  },
  {
   "cell_type": "code",
   "execution_count": null,
   "id": "ab47b578-e2a1-4304-ba78-777da7397bc5",
   "metadata": {},
   "outputs": [],
   "source": [
    "print(\"Hello World\")"
   ]
  },
  {
   "cell_type": "markdown",
   "id": "f16c0dc4-6d41-4184-b730-bcf3db388b89",
   "metadata": {},
   "source": [
    "Stabiliamo il tipo dell'oggetto \"Hello World\" (per meglio dire la \"classe\")"
   ]
  },
  {
   "cell_type": "code",
   "execution_count": null,
   "id": "8ab2afff-33b1-4f49-a631-714468f88a68",
   "metadata": {},
   "outputs": [],
   "source": [
    "print(type(\"Hello World\"))"
   ]
  },
  {
   "cell_type": "markdown",
   "id": "47df001f-0515-4091-9c8d-19729d5ea8a3",
   "metadata": {},
   "source": [
    "Assegniamo all'oggetto \"Hello World\" il nome x"
   ]
  },
  {
   "cell_type": "code",
   "execution_count": null,
   "id": "837d2485-b8f6-4542-900f-655ac3131342",
   "metadata": {},
   "outputs": [],
   "source": [
    "x = \"Hello World\""
   ]
  },
  {
   "cell_type": "markdown",
   "id": "0a9d3f2e-e905-4cbb-9c51-5a1e590f1175",
   "metadata": {},
   "source": [
    "Stampiamo x (che è il nome che abbiamo assegnato all'oggetto \"Hello World\")"
   ]
  },
  {
   "cell_type": "code",
   "execution_count": null,
   "id": "395bf159-1811-4a64-91b3-dfd1659ac4b4",
   "metadata": {},
   "outputs": [],
   "source": [
    "print(x)"
   ]
  },
  {
   "cell_type": "markdown",
   "id": "489d0b67-8540-4e03-a2fa-007b909c5156",
   "metadata": {},
   "source": [
    "Stampiamo il tipo di x (che è il nome che abbiamo assegnato all'oggetto \"Hello World\")"
   ]
  },
  {
   "cell_type": "code",
   "execution_count": null,
   "id": "a9fa66fc-e67b-460c-8276-fe197b60cfba",
   "metadata": {},
   "outputs": [],
   "source": [
    "print(type(x))"
   ]
  },
  {
   "cell_type": "markdown",
   "id": "8d38ef7c-fbcb-4d38-9018-f95672e91a43",
   "metadata": {},
   "source": [
    "Assegniamo al nome y, lo stesso oggetto a cui ho assegnato il nome x"
   ]
  },
  {
   "cell_type": "code",
   "execution_count": null,
   "id": "6b115264-ddd7-4c46-aac6-3330b77381dc",
   "metadata": {},
   "outputs": [],
   "source": [
    "y = x"
   ]
  },
  {
   "cell_type": "markdown",
   "id": "f7905f73-6ce9-4f7b-8979-dc4c53c178c6",
   "metadata": {},
   "source": [
    "Stampiamo y"
   ]
  },
  {
   "cell_type": "code",
   "execution_count": null,
   "id": "2fa9cdac-a65e-4022-848e-fd1bf9438455",
   "metadata": {},
   "outputs": [],
   "source": [
    "print(y)"
   ]
  },
  {
   "cell_type": "markdown",
   "id": "58bd117c-e791-43d7-af2d-f6475598e676",
   "metadata": {},
   "source": [
    "Posso accedere facilmente a un particolare carattere della stringa"
   ]
  },
  {
   "cell_type": "code",
   "execution_count": null,
   "id": "59dc9eb4-d754-4565-a932-56a1632cf7cf",
   "metadata": {},
   "outputs": [],
   "source": [
    "print(y[1])"
   ]
  },
  {
   "cell_type": "code",
   "execution_count": null,
   "id": "746a3cbc-f544-473d-93ee-dc24de272e57",
   "metadata": {},
   "outputs": [],
   "source": [
    "print(y[1:5])"
   ]
  },
  {
   "cell_type": "markdown",
   "id": "e593b6d3-d62d-450f-aa4c-f966d4b95d95",
   "metadata": {},
   "source": [
    "#### Analizziamo altri tipi. Partiamo dagli interi"
   ]
  },
  {
   "cell_type": "markdown",
   "id": "a5287e39-ca09-4d5b-983e-9f372e8f5229",
   "metadata": {},
   "source": [
    "Stampiamo l'oggetto 1"
   ]
  },
  {
   "cell_type": "code",
   "execution_count": null,
   "id": "a9e1f8e6-9ec3-4fd7-9979-af44947dad41",
   "metadata": {},
   "outputs": [],
   "source": [
    "print(1)"
   ]
  },
  {
   "cell_type": "markdown",
   "id": "aea953c9-2f08-4968-ae70-63a39a53481b",
   "metadata": {},
   "source": [
    "Stabiliamo il tipo dell'oggetto 1 "
   ]
  },
  {
   "cell_type": "code",
   "execution_count": null,
   "id": "88a89f65-9255-4d18-851d-aef65c1d7d75",
   "metadata": {},
   "outputs": [],
   "source": [
    "print(type(1))"
   ]
  },
  {
   "cell_type": "markdown",
   "id": "c0693dc9-3a01-48a3-8b55-ab5d828e7c93",
   "metadata": {},
   "source": [
    "Se assegnasi a l'oggetto 1 un determinato nome (scrivendo ad esempio x = 1) varrebbero tutte le considerazioni fatte in precedenza con le stringhe"
   ]
  },
  {
   "cell_type": "markdown",
   "id": "6fffa661-ce27-4567-aab9-446748946bcb",
   "metadata": {},
   "source": [
    "#### Float"
   ]
  },
  {
   "cell_type": "markdown",
   "id": "9217c661-6c32-46e2-9003-fde3462a4147",
   "metadata": {},
   "source": [
    "Stampiamo l'oggetto 1.2"
   ]
  },
  {
   "cell_type": "code",
   "execution_count": null,
   "id": "c04511cd-330e-43e3-bb86-eb34b64d9011",
   "metadata": {},
   "outputs": [],
   "source": [
    "print(1.2)"
   ]
  },
  {
   "cell_type": "markdown",
   "id": "7739c27f-3ab2-45ab-94f9-61cfcbb748ab",
   "metadata": {},
   "source": [
    "Stabiliamo il tipo dell'oggetto 1.2"
   ]
  },
  {
   "cell_type": "code",
   "execution_count": null,
   "id": "c1efbd58-e02b-4f09-8a83-0d7ee9f44ce6",
   "metadata": {},
   "outputs": [],
   "source": [
    "print(type(1.2))"
   ]
  },
  {
   "cell_type": "markdown",
   "id": "3c3f9f2d-4bfd-4053-a01b-d2181612801b",
   "metadata": {},
   "source": [
    "#### Booleani"
   ]
  },
  {
   "cell_type": "markdown",
   "id": "7a887c03-20cf-404f-9e67-13cfc1421f39",
   "metadata": {},
   "source": [
    "Stampiamo l'oggetto True"
   ]
  },
  {
   "cell_type": "code",
   "execution_count": null,
   "id": "9ca49e11-3fdb-4d8c-b843-4a0c4679352c",
   "metadata": {},
   "outputs": [],
   "source": [
    "print(True)"
   ]
  },
  {
   "cell_type": "markdown",
   "id": "8a572dc3-1ec2-4d3f-99e5-e0c5efcf1765",
   "metadata": {},
   "source": [
    "Stabiliamo il tipo dell'oggetto \"Nicola\""
   ]
  },
  {
   "cell_type": "code",
   "execution_count": null,
   "id": "4571ee38-3428-4f23-bb37-9b1e9b19887e",
   "metadata": {},
   "outputs": [],
   "source": [
    "print(type(True))"
   ]
  },
  {
   "cell_type": "markdown",
   "id": "a62cd32c-476f-4211-92ea-2829e7cb9bf2",
   "metadata": {},
   "source": [
    "#### None"
   ]
  },
  {
   "cell_type": "markdown",
   "id": "5f6cce83-ab41-4c93-a903-ee605e56c8e6",
   "metadata": {},
   "source": [
    "Stampiamo l'oggetto None"
   ]
  },
  {
   "cell_type": "code",
   "execution_count": null,
   "id": "31d10746-cb58-4515-8251-3462cc50ec8b",
   "metadata": {},
   "outputs": [],
   "source": [
    "print(None)"
   ]
  },
  {
   "cell_type": "markdown",
   "id": "2b906dd8-8313-4560-8f84-23ecc6f0837b",
   "metadata": {},
   "source": [
    "Stabiliamo il tipo dell'oggetto \"None\""
   ]
  },
  {
   "cell_type": "code",
   "execution_count": null,
   "id": "867415c4-ae94-4a5b-9f5f-133b6df20e2d",
   "metadata": {},
   "outputs": [],
   "source": [
    "print(type(None))"
   ]
  },
  {
   "cell_type": "markdown",
   "id": "e53d1784-bd74-44cc-8bff-b35d060fe3f3",
   "metadata": {},
   "source": [
    "#### Tuple"
   ]
  },
  {
   "cell_type": "markdown",
   "id": "fbaaef3c-7fff-495c-a537-ae5b6a22b452",
   "metadata": {},
   "source": [
    "Stampiamo la tupla (1,\"a\",3,1)"
   ]
  },
  {
   "cell_type": "code",
   "execution_count": null,
   "id": "792e3a12-fb69-4fdf-9721-a9cee1a25830",
   "metadata": {},
   "outputs": [],
   "source": [
    "print((1,\"a\",3,1))"
   ]
  },
  {
   "cell_type": "code",
   "execution_count": null,
   "id": "cfff3186-b7c3-4ce1-9ae8-7e35c529f116",
   "metadata": {},
   "outputs": [],
   "source": [
    "print(type((1,\"a\",3,1)))"
   ]
  },
  {
   "cell_type": "markdown",
   "id": "ac6947f8-06dd-4876-8e57-59db0859c1bb",
   "metadata": {},
   "source": [
    "Alle tuple posso applicare anche altre funzioni e metodi"
   ]
  },
  {
   "cell_type": "code",
   "execution_count": null,
   "id": "7114ad06-cd0c-420d-aa65-b66a16772ab9",
   "metadata": {},
   "outputs": [],
   "source": [
    "print(len((1,\"a\",3,1)))"
   ]
  },
  {
   "cell_type": "code",
   "execution_count": null,
   "id": "a7468bfe-2b13-4970-9fed-dd3fa1503fcb",
   "metadata": {},
   "outputs": [],
   "source": [
    "print((1,\"a\",3,1).count(3))"
   ]
  },
  {
   "cell_type": "code",
   "execution_count": null,
   "id": "fcbbfe30-37fa-4224-9b92-03928d68b447",
   "metadata": {},
   "outputs": [],
   "source": [
    "print((1,\"a\",3,1).index(3))"
   ]
  },
  {
   "cell_type": "markdown",
   "id": "6941b657-31bd-440a-9492-7a0d87932247",
   "metadata": {},
   "source": [
    "Inoltre posso accedere ad un elemento specifico della tupla"
   ]
  },
  {
   "cell_type": "code",
   "execution_count": null,
   "id": "ef68738d-a307-40df-892e-e5bfc897f6a2",
   "metadata": {},
   "outputs": [],
   "source": [
    "print((1,\"a\",3,1)[0])"
   ]
  },
  {
   "cell_type": "markdown",
   "id": "39e32d11-b001-4a6d-8532-96bcc1889d4e",
   "metadata": {},
   "source": [
    "### Tutti gli oggetti visti finora sono immutabili. Cioè non possono essere modificati"
   ]
  },
  {
   "cell_type": "markdown",
   "id": "f52aa3ce-2bde-4d33-8dee-647c45e4e42d",
   "metadata": {},
   "source": [
    "Nelle prossime due righe di codice, sto assegnando alla x prima l'oggetto 2 e poi l'oggetto 3. Al termine del codice il nome x sarà assegnato all'oggetto 3. Dire che sto modificando la x non è proprio corretto"
   ]
  },
  {
   "cell_type": "code",
   "execution_count": null,
   "id": "2b55059a-8785-4c62-b26a-daf013a53496",
   "metadata": {},
   "outputs": [],
   "source": [
    "x = 2\n",
    "x = 3"
   ]
  },
  {
   "cell_type": "code",
   "execution_count": null,
   "id": "a6b1e967-783a-4b7b-aa1f-bfe68ade5fb4",
   "metadata": {},
   "outputs": [],
   "source": [
    "print(x)"
   ]
  },
  {
   "cell_type": "markdown",
   "id": "5e075610-e145-43f4-bf49-14153611bc09",
   "metadata": {},
   "source": [
    "In questo codice assegno alla y lo stesso valore di x, poi alla y assegno un alto oggetto."
   ]
  },
  {
   "cell_type": "code",
   "execution_count": null,
   "id": "52c50148-90c3-477b-83c5-14881c1fe651",
   "metadata": {},
   "outputs": [],
   "source": [
    "y = x \n",
    "y = 4"
   ]
  },
  {
   "cell_type": "markdown",
   "id": "b23b5959-7a32-4c0e-b971-45e456308515",
   "metadata": {},
   "source": [
    "Siccome \"non sto modificando la y\" la x resterà con il valore vecchio"
   ]
  },
  {
   "cell_type": "code",
   "execution_count": null,
   "id": "fdf4c74e-7756-41b9-84a3-1a78cf33a335",
   "metadata": {},
   "outputs": [],
   "source": [
    "print(x)"
   ]
  },
  {
   "cell_type": "code",
   "execution_count": null,
   "id": "5cdb6cc7-9b71-4711-bf62-57f28078afd4",
   "metadata": {},
   "outputs": [],
   "source": [
    "print(y)"
   ]
  },
  {
   "cell_type": "markdown",
   "id": "3d1e76b1-ebdf-4cfa-980e-6a4c5a91881c",
   "metadata": {},
   "source": [
    "### Oggetti mutabili"
   ]
  },
  {
   "cell_type": "markdown",
   "id": "95c478e0-588c-4a40-9670-b2f8083acde5",
   "metadata": {},
   "source": [
    "#### Le liste sono oggetti mutabili (esistono metodi per modificarli)"
   ]
  },
  {
   "cell_type": "markdown",
   "id": "624e322b-1dbe-499d-9207-1ab528637e90",
   "metadata": {},
   "source": [
    "Andiamo con ordine, partiamo con la stampa della lista [1,\"a\",3,1]"
   ]
  },
  {
   "cell_type": "code",
   "execution_count": null,
   "id": "146f3a05-663d-45f8-ac3b-4b8e01619399",
   "metadata": {},
   "outputs": [],
   "source": [
    "print([1,\"a\",3,1])"
   ]
  },
  {
   "cell_type": "markdown",
   "id": "9e0030fc-eac5-4e3e-9ef1-ec4e73aa8c75",
   "metadata": {},
   "source": [
    "Vediamo il tipo"
   ]
  },
  {
   "cell_type": "code",
   "execution_count": null,
   "id": "f72aa336-0aa8-425f-9f08-f35c54c34818",
   "metadata": {},
   "outputs": [],
   "source": [
    "print(type([1,\"a\",3,1]))"
   ]
  },
  {
   "cell_type": "markdown",
   "id": "50976630-315d-434e-8add-e534259d6f1a",
   "metadata": {},
   "source": [
    "Anche le liste hanno i metodi count e pos "
   ]
  },
  {
   "cell_type": "code",
   "execution_count": null,
   "id": "361813f6-800d-4600-ab60-b004fc8b039a",
   "metadata": {},
   "outputs": [],
   "source": [
    "print([1,\"a\",3,1].count(3))"
   ]
  },
  {
   "cell_type": "code",
   "execution_count": null,
   "id": "407d8215-5351-4def-b57c-7babc50cac24",
   "metadata": {},
   "outputs": [],
   "source": [
    "print([1,\"a\",3,1].index(3))"
   ]
  },
  {
   "cell_type": "markdown",
   "id": "5425df8f-8629-4590-a636-9249468844eb",
   "metadata": {},
   "source": [
    "Inoltre posso accedere ad un elemento specifico della tupla"
   ]
  },
  {
   "cell_type": "code",
   "execution_count": null,
   "id": "51ae6c97-1798-44b7-b82c-7d6b1fd39cce",
   "metadata": {},
   "outputs": [],
   "source": [
    "print([1,\"a\",3,1][0])"
   ]
  },
  {
   "cell_type": "markdown",
   "id": "61ca2940-2a8f-469c-860c-a3536e3e0a8e",
   "metadata": {},
   "source": [
    "Esistono però anche metodi per modificare una lista. In questi casi conviene assegnare un nome alla lista. Partiamo assegnanto alla lista [1,\"a\",3,1] il nome x"
   ]
  },
  {
   "cell_type": "code",
   "execution_count": null,
   "id": "3adea08a-9ea9-4628-9b98-1980f4d9bf88",
   "metadata": {},
   "outputs": [],
   "source": [
    "x = [1,\"a\",3,1]"
   ]
  },
  {
   "cell_type": "markdown",
   "id": "f2173608-0fcf-4d8d-9e03-b7a1ccadfe78",
   "metadata": {},
   "source": [
    "Modifichiamo la lista aggiungendo in fondo il valore 3 con il metodo append"
   ]
  },
  {
   "cell_type": "code",
   "execution_count": null,
   "id": "80c7b48e-14fa-46fe-9a57-2945dbbfbaf4",
   "metadata": {},
   "outputs": [],
   "source": [
    "x.append(3)"
   ]
  },
  {
   "cell_type": "markdown",
   "id": "0f5ee717-f802-425d-b7ff-59cbdd95bae8",
   "metadata": {},
   "source": [
    "Stampiamo x"
   ]
  },
  {
   "cell_type": "code",
   "execution_count": null,
   "id": "6e392562-8f93-41b0-a04f-62ba9c4e2483",
   "metadata": {},
   "outputs": [],
   "source": [
    "print(x)"
   ]
  },
  {
   "cell_type": "markdown",
   "id": "08260774-7488-4452-aa46-bf39f04b0939",
   "metadata": {},
   "source": [
    "Attenzione: i metodi visti precedentemente count e index restituivano un intero. Append modifica direttamente la lista, non restituisce niente! Proviamo a lanciare questo codice"
   ]
  },
  {
   "cell_type": "code",
   "execution_count": null,
   "id": "c32f9cce-cf5a-4c0d-9bcb-6020dd5296df",
   "metadata": {},
   "outputs": [],
   "source": [
    "y = x.append(5)"
   ]
  },
  {
   "cell_type": "markdown",
   "id": "93ec634e-ed50-498b-bd19-9b661c2ae67f",
   "metadata": {},
   "source": [
    "Cosa c'è in x e in y?"
   ]
  },
  {
   "cell_type": "code",
   "execution_count": null,
   "id": "907ce394-4c28-4c1f-b34e-6bafc79829cb",
   "metadata": {},
   "outputs": [],
   "source": [
    "print(x)"
   ]
  },
  {
   "cell_type": "code",
   "execution_count": null,
   "id": "df08de86-4960-4ddc-9e12-0c389f4c2c23",
   "metadata": {},
   "outputs": [],
   "source": [
    "print(y)"
   ]
  },
  {
   "cell_type": "markdown",
   "id": "498fa505-9bee-47e1-8627-27c9cd8c35a6",
   "metadata": {},
   "source": [
    "Vediamo il metodo sort per ordinare la lista"
   ]
  },
  {
   "cell_type": "code",
   "execution_count": null,
   "id": "e8a86682-62c0-49d2-a924-788baa590923",
   "metadata": {},
   "outputs": [],
   "source": [
    "z = [3,5,1]"
   ]
  },
  {
   "cell_type": "code",
   "execution_count": null,
   "id": "4dc263b7-721a-499d-9bf5-b4e3621b49db",
   "metadata": {},
   "outputs": [],
   "source": [
    "print(z)"
   ]
  },
  {
   "cell_type": "code",
   "execution_count": null,
   "id": "2823000d-268b-4303-a6a8-2b6f6e676835",
   "metadata": {},
   "outputs": [],
   "source": [
    "z.sort()"
   ]
  },
  {
   "cell_type": "code",
   "execution_count": null,
   "id": "fa64aec1-91c7-460a-9df7-276591debe08",
   "metadata": {},
   "outputs": [],
   "source": [
    "print(z)"
   ]
  },
  {
   "cell_type": "markdown",
   "id": "a5370acd-5aef-4f79-b3d1-8ce3fb777422",
   "metadata": {},
   "source": [
    "Se invece proviamo ad ordinare x otteniamo un errore"
   ]
  },
  {
   "cell_type": "code",
   "execution_count": null,
   "id": "f215fd91-9427-4fae-a820-f1f5e811c6b1",
   "metadata": {},
   "outputs": [],
   "source": [
    "x.sort()"
   ]
  },
  {
   "cell_type": "markdown",
   "id": "7bf5a1c6-fc56-4b8a-b81a-7f5699548ea1",
   "metadata": {},
   "source": [
    "Risulta possibile convertire altri tipi in liste tramite la funzione list"
   ]
  },
  {
   "cell_type": "code",
   "execution_count": null,
   "id": "b9f65468-28b8-4e09-a3c1-ddfc3cad6efe",
   "metadata": {},
   "outputs": [],
   "source": [
    "x = \"nicola\""
   ]
  },
  {
   "cell_type": "code",
   "execution_count": null,
   "id": "83e19fff-2c05-4d69-84fe-8c7a8a3da62f",
   "metadata": {},
   "outputs": [],
   "source": [
    "print(list(x))"
   ]
  },
  {
   "cell_type": "code",
   "execution_count": null,
   "id": "f0239fad-3e45-446c-ab80-9879248819d2",
   "metadata": {},
   "outputs": [],
   "source": [
    "x = \"nicola,giovanni,alberto\""
   ]
  },
  {
   "cell_type": "code",
   "execution_count": null,
   "id": "195621fb-5ecb-4fb9-a18d-037e59e16c52",
   "metadata": {},
   "outputs": [],
   "source": [
    "print(x.split(\",\"))"
   ]
  },
  {
   "cell_type": "markdown",
   "id": "423e5227-53e1-4309-9a7b-5be8b9512a57",
   "metadata": {},
   "source": [
    "#### Un altro oggetto mutabile: l'insieme"
   ]
  },
  {
   "cell_type": "markdown",
   "id": "f2bf77b5-d4ad-4fe9-80bc-b730852b0ad6",
   "metadata": {},
   "source": [
    "Stampiamo l'insieme {1,\"a\",3,1}"
   ]
  },
  {
   "cell_type": "code",
   "execution_count": null,
   "id": "f5615103-6653-4b02-94d9-b7df19be7183",
   "metadata": {},
   "outputs": [],
   "source": [
    "print({1,\"a\",3,1})"
   ]
  },
  {
   "cell_type": "markdown",
   "id": "a0e4bf61-b3bc-4774-bf8b-b371b9fa1363",
   "metadata": {},
   "source": [
    "Facciamo attenzione al fatto che nell'insieme non possono esserci duplicati! Inoltre non è presente un concetto di ordine"
   ]
  },
  {
   "cell_type": "markdown",
   "id": "67eef945-9dad-4240-b430-0298f0dcf5a7",
   "metadata": {},
   "source": [
    "Vediamo il tipo"
   ]
  },
  {
   "cell_type": "code",
   "execution_count": null,
   "id": "548de3e6-d345-48e3-bd96-77883c15c4b3",
   "metadata": {},
   "outputs": [],
   "source": [
    "type({1,\"a\",3,1})"
   ]
  },
  {
   "cell_type": "markdown",
   "id": "4948d41c-8784-4d17-a853-f24d723ada11",
   "metadata": {},
   "source": [
    "Agli insiemi posso applicae funzioni e metodi, ma non quelli che riguardano la posizione! Attenzione al risultato"
   ]
  },
  {
   "cell_type": "code",
   "execution_count": null,
   "id": "32c04c95-5342-47b3-9f56-bc9d1924270c",
   "metadata": {},
   "outputs": [],
   "source": [
    "print(len({1,\"a\",3,1}))"
   ]
  },
  {
   "cell_type": "markdown",
   "id": "28422465-8f38-485e-a29d-d706283f3be4",
   "metadata": {},
   "source": [
    "I metodo count e index danno errore, perché non sono applicabili a insiemi"
   ]
  },
  {
   "cell_type": "code",
   "execution_count": null,
   "id": "911bca84-4ced-4282-ba9f-26428dce28a4",
   "metadata": {},
   "outputs": [],
   "source": [
    "print({1,\"a\",3,1}.count(1))"
   ]
  },
  {
   "cell_type": "code",
   "execution_count": null,
   "id": "efbdf3c2-b334-4d82-b6cc-8d2b953b494d",
   "metadata": {},
   "outputs": [],
   "source": [
    "print({1,\"a\",3,1}.index(3))"
   ]
  },
  {
   "cell_type": "markdown",
   "id": "3e111ab7-19fb-4c92-b717-9a18e9bccc4b",
   "metadata": {},
   "source": [
    "Allo stesso modo non accedere ad un elemento specifico dell'insieme"
   ]
  },
  {
   "cell_type": "code",
   "execution_count": null,
   "id": "a875026b-7479-4d69-a3bb-79ab9e55d314",
   "metadata": {},
   "outputs": [],
   "source": [
    "print({1,\"a\",3,1}[0])"
   ]
  },
  {
   "cell_type": "markdown",
   "id": "ca8e4dd4-15e9-4855-b9d3-70beadccfb5b",
   "metadata": {},
   "source": [
    "E nemmeno ordinare"
   ]
  },
  {
   "cell_type": "code",
   "execution_count": null,
   "id": "f7e408f4-de15-452b-a25e-2e9b5874730c",
   "metadata": {},
   "outputs": [],
   "source": [
    "x = {1,3,5}"
   ]
  },
  {
   "cell_type": "code",
   "execution_count": null,
   "id": "7f1085cc-0b2d-48d1-a9bd-715935b44793",
   "metadata": {},
   "outputs": [],
   "source": [
    "x.sort()"
   ]
  },
  {
   "cell_type": "markdown",
   "id": "10e0adf3-fbed-45d4-b547-8499a86d65de",
   "metadata": {},
   "source": [
    "Posso invece aggiungere un elemento all'insieme. Assegniamo anche in questo caso un nome all'insieme"
   ]
  },
  {
   "cell_type": "code",
   "execution_count": null,
   "id": "c960b23b-2855-497f-b2c6-0e74bbe6e1ca",
   "metadata": {},
   "outputs": [],
   "source": [
    "x = {1,\"a\",3,1}"
   ]
  },
  {
   "cell_type": "code",
   "execution_count": null,
   "id": "c0b1f55c-d7fb-42c3-b105-ddf0ed58f7ac",
   "metadata": {},
   "outputs": [],
   "source": [
    "x.add(4)"
   ]
  },
  {
   "cell_type": "code",
   "execution_count": null,
   "id": "8004dd6f-e0f9-4a15-bcdf-d5f26f50b230",
   "metadata": {},
   "outputs": [],
   "source": [
    "print(x)"
   ]
  },
  {
   "cell_type": "markdown",
   "id": "a6c2e816-84df-40a2-b9ed-6504502c813f",
   "metadata": {},
   "source": [
    "Proviamo ad aggiungere un elemento già presente"
   ]
  },
  {
   "cell_type": "code",
   "execution_count": null,
   "id": "81a9c954-d8af-43bb-8dc3-d6dcf507cde1",
   "metadata": {},
   "outputs": [],
   "source": [
    "x.add(1)"
   ]
  },
  {
   "cell_type": "code",
   "execution_count": null,
   "id": "5e2e28f2-d65c-4085-81b2-83537a48765e",
   "metadata": {},
   "outputs": [],
   "source": [
    "print(x)"
   ]
  },
  {
   "cell_type": "markdown",
   "id": "9ffca71b-324b-4b89-812c-8efdad02d9ca",
   "metadata": {},
   "source": [
    "Valgono le stesse considerazioni fatte per le liste"
   ]
  },
  {
   "cell_type": "code",
   "execution_count": null,
   "id": "751ef52e-34d8-45b1-b973-de83af84f991",
   "metadata": {},
   "outputs": [],
   "source": [
    "x = {1,\"a\",3,1}\n",
    "y = x\n",
    "y.add(4)\n",
    "print(x)\n",
    "print(y)"
   ]
  },
  {
   "cell_type": "code",
   "execution_count": null,
   "id": "3564dffe-9f68-4dbf-b6f5-a4dc60c7e429",
   "metadata": {},
   "outputs": [],
   "source": [
    "x = {1,\"a\",3,1}\n",
    "y = x.add(4)\n",
    "print(x)\n",
    "print(y)"
   ]
  },
  {
   "cell_type": "markdown",
   "id": "6732f77f-604a-449f-aaec-9693aee8ad3d",
   "metadata": {},
   "source": [
    "Gli insiemi hanno metodo interessanti non disponibili per le liste"
   ]
  },
  {
   "cell_type": "code",
   "execution_count": null,
   "id": "670a1838-9000-4de4-b8e3-9bcc942aa54e",
   "metadata": {},
   "outputs": [],
   "source": [
    "x = {1,\"a\",3}\n",
    "y = {1,2}"
   ]
  },
  {
   "cell_type": "code",
   "execution_count": null,
   "id": "81baa9b0-7353-4969-b409-8171f40858fe",
   "metadata": {},
   "outputs": [],
   "source": [
    "print(x.union(y))"
   ]
  },
  {
   "cell_type": "code",
   "execution_count": null,
   "id": "d3d8b3a1-1883-490b-9b2a-df96dab4e3d6",
   "metadata": {},
   "outputs": [],
   "source": [
    "print(x.intersection(y))"
   ]
  },
  {
   "cell_type": "code",
   "execution_count": null,
   "id": "ecb59dad-477d-494b-bd16-f4d26b8fffe6",
   "metadata": {},
   "outputs": [],
   "source": [
    "print(x.difference(y))"
   ]
  },
  {
   "cell_type": "markdown",
   "id": "1f9e6e98-fc86-4be9-ad28-ec1d98615a54",
   "metadata": {},
   "source": [
    "#### Un altro oggetto mutabile: il dizionario"
   ]
  },
  {
   "cell_type": "markdown",
   "id": "5dfadf9a-9a24-47c8-8fde-0006ae4b43cb",
   "metadata": {},
   "source": [
    "Stampiamo il dizionario {\"nome\":\"Nicola\",\"eta\":35}"
   ]
  },
  {
   "cell_type": "code",
   "execution_count": null,
   "id": "28d040cf-57b0-47c3-89b9-15b4288b9a70",
   "metadata": {},
   "outputs": [],
   "source": [
    "print({\"nome\":\"Nicola\",\"eta\":35})"
   ]
  },
  {
   "cell_type": "markdown",
   "id": "cee317a6-ae61-41bf-9d42-75dc98b9f8ce",
   "metadata": {},
   "source": [
    "I dizionari sono composti da coppie di chiave-valore. Nel dizionario non possono esserci due elementi con la stessa chiave. Se provo a creare un dizionario con la stessa chiave ripetuta due volte, sarà presa l'ultima coppia."
   ]
  },
  {
   "cell_type": "code",
   "execution_count": null,
   "id": "d475d268-d674-4711-bcdc-04c599b95393",
   "metadata": {},
   "outputs": [],
   "source": [
    "print({\"nome\":\"Nicola\",\"eta\":35, \"nome\":\"Giovanni\"})"
   ]
  },
  {
   "cell_type": "markdown",
   "id": "190e528d-b28a-48cc-9e32-4a2fdeb09735",
   "metadata": {},
   "source": [
    "Dalla versione Python 3.7 i dizionari sono ordinati, nel senso che le chiavi seguono l'ordine di inserimento"
   ]
  },
  {
   "cell_type": "markdown",
   "id": "ce7ca4c4-4598-4cbe-8831-10f2e01e9b6b",
   "metadata": {},
   "source": [
    "Vediamo il tipo"
   ]
  },
  {
   "cell_type": "code",
   "execution_count": null,
   "id": "7ca6e46f-4da5-4bbf-9f22-84456f6a23f9",
   "metadata": {},
   "outputs": [],
   "source": [
    "type({\"nome\":\"Nicola\",\"eta\":35})"
   ]
  },
  {
   "cell_type": "markdown",
   "id": "2e0c543d-899b-435c-a8df-df57b7812d31",
   "metadata": {},
   "source": [
    "Agli insiemi posso applicare funzioni e metodi. Attenzione al risultato"
   ]
  },
  {
   "cell_type": "code",
   "execution_count": null,
   "id": "51f68034-d5a2-4f6e-b196-8a3ac92b2cfc",
   "metadata": {},
   "outputs": [],
   "source": [
    "print(len({\"nome\":\"Nicola\",\"eta\":35, \"nome\":\"Giovanni\"}))"
   ]
  },
  {
   "cell_type": "markdown",
   "id": "207319cf-9fdb-442d-a538-f8ab6ea19761",
   "metadata": {},
   "source": [
    "Visualizziamo l'elenco di chiavi, valori e coppie chiave-valore"
   ]
  },
  {
   "cell_type": "code",
   "execution_count": null,
   "id": "7ae598e4-0d96-4dec-8a9f-fb2f1bee029c",
   "metadata": {},
   "outputs": [],
   "source": [
    "print({\"nome\":\"Nicola\",\"eta\":35}.keys())"
   ]
  },
  {
   "cell_type": "code",
   "execution_count": null,
   "id": "e5621320-d20a-4556-b3ef-d5cf9a23b1b4",
   "metadata": {},
   "outputs": [],
   "source": [
    "print({\"nome\":\"Nicola\",\"eta\":35}.values())"
   ]
  },
  {
   "cell_type": "code",
   "execution_count": null,
   "id": "6542017d-77df-4f82-9ed0-455a6c14f481",
   "metadata": {},
   "outputs": [],
   "source": [
    "print({\"nome\":\"Nicola\",\"eta\":35}.items())"
   ]
  },
  {
   "cell_type": "markdown",
   "id": "f275afa6-f5d2-4c98-9697-83aad7f36bc7",
   "metadata": {},
   "source": [
    "I metodo count e index danno errore, perché non sono applicabili a insiemi"
   ]
  },
  {
   "cell_type": "code",
   "execution_count": null,
   "id": "05ad9788-00e3-4a45-8e76-26dbafc8b633",
   "metadata": {},
   "outputs": [],
   "source": [
    "print({\"nome\":\"Nicola\",\"eta\":35, \"nome\":\"Giovanni\"}.count(\"nome\"))"
   ]
  },
  {
   "cell_type": "code",
   "execution_count": null,
   "id": "6182d552-daba-4779-b415-181dd142cd08",
   "metadata": {},
   "outputs": [],
   "source": [
    "print({\"nome\":\"Nicola\",\"eta\":35, \"nome\":\"Giovanni\"}.index(3))"
   ]
  },
  {
   "cell_type": "markdown",
   "id": "4af8b698-d44a-4949-b9d0-648720737825",
   "metadata": {},
   "source": [
    "Risulta facile accedere al valore di una determinata chiave"
   ]
  },
  {
   "cell_type": "code",
   "execution_count": null,
   "id": "ef918eb3-af21-4a24-8f96-4b0c467c763e",
   "metadata": {},
   "outputs": [],
   "source": [
    "x = {\"nome\":\"Nicola\",\"eta\":35}"
   ]
  },
  {
   "cell_type": "code",
   "execution_count": null,
   "id": "d1492ff3-21b4-4fc2-a33e-557266915357",
   "metadata": {},
   "outputs": [],
   "source": [
    "print(x[\"nome\"])"
   ]
  },
  {
   "cell_type": "markdown",
   "id": "6589eef9-70fb-40c2-b799-0a3f6f338ac7",
   "metadata": {},
   "source": [
    "Invece, analogamente agli insiemi, non posso accedere ad un elemento specifico del dizionario"
   ]
  },
  {
   "cell_type": "code",
   "execution_count": null,
   "id": "a0192dba-7473-4503-a68f-675cf986ec72",
   "metadata": {},
   "outputs": [],
   "source": [
    "print({\"nome\":\"Nicola\",\"eta\":35}[0])"
   ]
  },
  {
   "cell_type": "markdown",
   "id": "be6a3dbd-2ccd-4c68-8560-84a729c5ef9c",
   "metadata": {},
   "source": [
    "Tuttavia da Python 3.7 (in cui è mantenuto l'ordine di inserimento) potrei arrivare al risultato utilizzando le liste"
   ]
  },
  {
   "cell_type": "code",
   "execution_count": null,
   "id": "90035009-56fc-435a-b6fc-04af7469457c",
   "metadata": {},
   "outputs": [],
   "source": [
    "x = {\"nome\":\"Nicola\",\"eta\":35}"
   ]
  },
  {
   "cell_type": "code",
   "execution_count": null,
   "id": "3af89288-ebae-40c3-a227-d91eaacafdcd",
   "metadata": {},
   "outputs": [],
   "source": [
    "chiavi = list(x.keys())\n",
    "print(chiavi)"
   ]
  },
  {
   "cell_type": "code",
   "execution_count": null,
   "id": "073d06c5-445e-48b5-b020-7dc02a1c0cb7",
   "metadata": {},
   "outputs": [],
   "source": [
    "valori = list(x.values())\n",
    "print(valori)"
   ]
  },
  {
   "cell_type": "code",
   "execution_count": null,
   "id": "4e0b1bcb-750f-45c7-abb0-5da0f4b07359",
   "metadata": {},
   "outputs": [],
   "source": [
    "print({chiavi[0]:valori[0]})"
   ]
  },
  {
   "cell_type": "markdown",
   "id": "9e80a45d-f02f-4e0e-9f6c-2a584c20d02b",
   "metadata": {},
   "source": [
    "Posso invece aggiungere una coppia al dizionario. "
   ]
  },
  {
   "cell_type": "code",
   "execution_count": null,
   "id": "fdd2bccb-5747-43b0-b18b-562c7c8a1948",
   "metadata": {},
   "outputs": [],
   "source": [
    "x = {\"nome\":\"Nicola\",\"eta\":35}"
   ]
  },
  {
   "cell_type": "code",
   "execution_count": null,
   "id": "a869f38e-3135-424e-8a47-43dc175daf7d",
   "metadata": {},
   "outputs": [],
   "source": [
    "x[\"cognome\"] = \"Iantomasi\""
   ]
  },
  {
   "cell_type": "code",
   "execution_count": null,
   "id": "398135c9-9a04-47ca-92a4-099859de0781",
   "metadata": {},
   "outputs": [],
   "source": [
    "print(x)"
   ]
  },
  {
   "cell_type": "markdown",
   "id": "c9842432-970c-4ca9-b091-77b08a30f594",
   "metadata": {},
   "source": [
    "Proviamo ad aggiungere un elemento già presente"
   ]
  },
  {
   "cell_type": "code",
   "execution_count": null,
   "id": "65e7039a-b627-4dcc-9df6-e09abe790a5c",
   "metadata": {},
   "outputs": [],
   "source": [
    "x[\"cognome\"] = \"Rossi\""
   ]
  },
  {
   "cell_type": "markdown",
   "id": "b3381594-2990-465d-a5c1-aaef67c91083",
   "metadata": {},
   "source": [
    "Sovrascriverò il valore"
   ]
  },
  {
   "cell_type": "code",
   "execution_count": null,
   "id": "d00618f2-f51f-42e5-a788-b3388e3a606d",
   "metadata": {},
   "outputs": [],
   "source": [
    "print(x)"
   ]
  }
 ],
 "metadata": {
  "kernelspec": {
   "display_name": "Python 3 (ipykernel)",
   "language": "python",
   "name": "python3"
  },
  "language_info": {
   "codemirror_mode": {
    "name": "ipython",
    "version": 3
   },
   "file_extension": ".py",
   "mimetype": "text/x-python",
   "name": "python",
   "nbconvert_exporter": "python",
   "pygments_lexer": "ipython3",
   "version": "3.13.3"
  }
 },
 "nbformat": 4,
 "nbformat_minor": 5
}
