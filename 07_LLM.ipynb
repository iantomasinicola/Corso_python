{
 "cells": [
  {
   "cell_type": "markdown",
   "id": "20723ae4-53ee-4ad5-9a2f-89f3be60b678",
   "metadata": {},
   "source": [
    "## LLM con Open AI"
   ]
  },
  {
   "cell_type": "code",
   "execution_count": null,
   "id": "3032ca89-22c3-4253-bd08-bda445a77bc4",
   "metadata": {},
   "outputs": [],
   "source": [
    "import pandas as pd\n",
    "from openai import OpenAI\n",
    "import os\n",
    "import getpass"
   ]
  },
  {
   "cell_type": "code",
   "execution_count": null,
   "id": "d2f11f78-8dbe-4aba-b774-5fb383b6f097",
   "metadata": {},
   "outputs": [],
   "source": [
    "secret_key = getpass.getpass(prompt='Inserisci la chiave: ')"
   ]
  },
  {
   "cell_type": "code",
   "execution_count": null,
   "id": "987fda22-4f71-4701-83c5-3f2a8e63ae2a",
   "metadata": {},
   "outputs": [],
   "source": [
    "os.environ['OPENAI_API_KEY']=secret_key"
   ]
  },
  {
   "cell_type": "markdown",
   "id": "3f78eae9-ebf0-44f5-8565-40f7fccbac2e",
   "metadata": {},
   "source": [
    "Inizializziamo le api"
   ]
  },
  {
   "cell_type": "code",
   "execution_count": null,
   "id": "fa558774-ec69-403b-905b-dd803aeafa59",
   "metadata": {},
   "outputs": [],
   "source": [
    "client = OpenAI()"
   ]
  },
  {
   "cell_type": "markdown",
   "id": "a4e66582-251e-4109-ae12-eb59220f82eb",
   "metadata": {},
   "source": [
    "Proviamo a fare una chiamata"
   ]
  },
  {
   "cell_type": "code",
   "execution_count": null,
   "id": "df457ba7-78fb-40e7-8b5c-be2c4d6c89e0",
   "metadata": {},
   "outputs": [],
   "source": [
    "completition = client.chat.completions.create(\n",
    "  model=\"gpt-4o\",\n",
    "  messages=[\n",
    "    {\"role\": \"system\", \"content\": \"Sei un'assistente AI\"},\n",
    "    {\"role\": \"user\", \"content\": \"Come puoi aiutarmi con pandas?\"}\n",
    "  ]\n",
    ")"
   ]
  },
  {
   "cell_type": "code",
   "execution_count": null,
   "id": "ae22d91f-88e9-4f42-8223-cabc02765074",
   "metadata": {},
   "outputs": [],
   "source": [
    "print(completition.choices[0].message.content)"
   ]
  },
  {
   "cell_type": "markdown",
   "id": "a06ba518-abdc-41ac-bdc3-6d079b44c022",
   "metadata": {},
   "source": [
    "## Applicazione pratica con LLM"
   ]
  },
  {
   "cell_type": "markdown",
   "id": "1ff0c77c-d60c-4da9-9810-350f04e03438",
   "metadata": {},
   "source": [
    "Acquisiamo il dataframe fatture"
   ]
  },
  {
   "cell_type": "code",
   "execution_count": null,
   "id": "bed223ab-8674-44a6-b57c-a1138727f810",
   "metadata": {},
   "outputs": [],
   "source": [
    "#path = r\"C:\\Users\\ianto\\Desktop\\Corso python\\file\"\n",
    "\n",
    "fatture = pd.read_csv(filepath_or_buffer = \"Fatture.csv\",\n",
    "        sep = \";\",  #separtore del file\n",
    "        header = None,\n",
    "        names = [\"NumeroFattura\",\"Tipologia\",\"Importo\",\"Iva\",\"IdCliente\",\"Regione\",\"DataFattura\",\"NumeroFornitore\"],\n",
    "        decimal = \",\",\n",
    "        )\n",
    "\n",
    "fatture['DataFattura'] =  pd.to_datetime(fatture['DataFattura'],\n",
    "                                         format=\"%d/%m/%Y\"\n",
    "                                        )  \n",
    "\n",
    "fatture['NumeroFornitore'] = fatture['NumeroFornitore'].astype('Int64')"
   ]
  },
  {
   "cell_type": "markdown",
   "id": "cffeedb2-9cb4-40a4-8705-2667b45a148c",
   "metadata": {},
   "source": [
    "Proviamo a chiedere all'LLM di generare un codice pandas"
   ]
  },
  {
   "cell_type": "code",
   "execution_count": null,
   "id": "448b44a3-4d31-4209-9cbf-dc9d75086daf",
   "metadata": {},
   "outputs": [],
   "source": [
    "risposta = client.chat.completions.create(\n",
    "  model=\"gpt-4o\",\n",
    "  messages=[\n",
    "            {\"role\": \"system\",\n",
    "             \"content\": \"Supporti l'utente scrivendo solo codice Python eseguibile con la libreria pandas per rispondere alla sua richiesta\" },\n",
    "            {\"role\": \"user\",\n",
    "             \"content\": f\"\"\"\n",
    "            Stai lavorando con un dataframe Pandas in Python.\n",
    "            Il nome del dataframe è df.\n",
    "            \n",
    "            Questo è l'elenco delle colonne di df:\n",
    "            {str(fatture.columns.values)}\n",
    "\n",
    "            Considera questa richiesta: qual è la fattura più recente?\n",
    "            \n",
    "            Segui queste istruzioni:\n",
    "            1. Converti la richiesta precedente in codice Python eseguibile usando Pandas.\n",
    "            2. L'ultima riga di codice dovrebbe essere un'espressione Python che può essere chiamata con la funzione `eval()`.\n",
    "            3. Il codice dovrebbe rappresentare una soluzione alla query.\n",
    "            4. Restituisci come risposta soltanto il codice Python, non aggiungere altre considerazioni o preamboli\n",
    "            5. La risposta non deve iniziare con ```python\n",
    "            6. Non creare dataframe d'esempio\n",
    "            7. Non fare nessun commento\n",
    "            8. Rispondi esclusivamente con codice Python\n",
    "            9. Non usare eval nella risposta\n",
    "            10. Non creare esempi di dati, usa direttamente nella risposta il nome del dataframe è df \n",
    "             \"\"\"}],\n",
    "            temperature=0.2)"
   ]
  },
  {
   "cell_type": "code",
   "execution_count": null,
   "id": "18aabc4a-b4e2-42d1-9260-e6bb5a6fb07a",
   "metadata": {},
   "outputs": [],
   "source": [
    "print(risposta.choices[0].message.content)"
   ]
  },
  {
   "cell_type": "markdown",
   "id": "372d6195-e4db-43c9-a231-a1fda5be33c3",
   "metadata": {},
   "source": [
    "Creiamo una funzione che richiede in input un dataframe e un'interrogazione in linguaggio naturale"
   ]
  },
  {
   "cell_type": "code",
   "execution_count": null,
   "id": "6b35f435-1705-4693-9e51-f2f739d360eb",
   "metadata": {},
   "outputs": [],
   "source": [
    "def generete_pandas_code(df, query):\n",
    "    user_content = f\"\"\"\n",
    "            Stai lavorando con un dataframe Pandas in Python.\n",
    "            Il nome del dataframe è df.\n",
    "            \n",
    "            Questo è l'elenco delle colonne di df:\n",
    "            {str(df.columns.values)}\n",
    "\n",
    "            Considera questa richiesta: {query}?\n",
    "            \n",
    "            Segui queste istruzioni:\n",
    "            1. Converti la richiesta precedente in codice Python eseguibile usando Pandas.\n",
    "            2. L'ultima riga di codice dovrebbe essere un'espressione Python che può essere chiamata con la funzione `eval()`.\n",
    "            3. Il codice dovrebbe rappresentare una soluzione alla query.\n",
    "            4. Restituisci come risposta soltanto il codice Python, non aggiungere altre considerazioni o preamboli\n",
    "            5. La risposta non deve iniziare con ```python\n",
    "            6. Non creare dataframe d'esempio\n",
    "            7. Non fare nessun commento\n",
    "            8. Rispondi esclusivamente con codice Python\n",
    "            9. Non usare eval nella risposta\n",
    "            10. Non creare esempi di dati, usa direttamente nella risposta il nome del dataframe è df \n",
    "            \"\"\"\n",
    "    domanda = client.chat.completions.create(\n",
    "          model=\"gpt-4o\",\n",
    "          messages=[\n",
    "                    {\"role\": \"system\",\n",
    "                    \"content\": \"Supporti l'utente scrivendo solo codice Python eseguibile con la libreria pandas per rispondere alla sua richiesta\" },\n",
    "                    {\"role\": \"user\",\n",
    "                     \"content\":user_content }\n",
    "                   ])\n",
    "\n",
    "    risposta = domanda.choices[0].message.content\n",
    "    return risposta"
   ]
  },
  {
   "cell_type": "code",
   "execution_count": null,
   "id": "9be3ad47-0d28-4f9d-b321-bb44f9401388",
   "metadata": {},
   "outputs": [],
   "source": [
    "df_input = fatture"
   ]
  },
  {
   "cell_type": "code",
   "execution_count": null,
   "id": "f5e19b76-add3-41d5-a3d6-7e376732b5cc",
   "metadata": {},
   "outputs": [],
   "source": [
    "query_input = input(\"Chiedi la generazione di un codice Pandas. Scrivi x per uscire\")\n",
    "\n",
    "while query_input!=\"x\":\n",
    "    risposta = generete_pandas_code(df=df_input, query=query_input)\n",
    "    print(risposta)\n",
    "    query_input = input(\"Chiedi la generazione di un codice Pandas. O scrivi x per uscire\")"
   ]
  },
  {
   "cell_type": "markdown",
   "id": "81cdce14-4b9e-4a6f-be8f-9178c1ae9bd5",
   "metadata": {},
   "source": [
    "# LLM in locale"
   ]
  },
  {
   "cell_type": "code",
   "execution_count": null,
   "id": "e1a31f1b-f1ce-4820-97a9-d4b8bdc73119",
   "metadata": {},
   "outputs": [],
   "source": [
    "import ollama"
   ]
  },
  {
   "cell_type": "markdown",
   "id": "fdbb0d7d-7a86-4861-b7ee-9b8ec300a1e5",
   "metadata": {},
   "source": [
    "Elenco modelli installati in locale"
   ]
  },
  {
   "cell_type": "code",
   "execution_count": null,
   "id": "1e72b2a1-c78e-4ea8-8008-09880123b093",
   "metadata": {},
   "outputs": [],
   "source": [
    "ollama.list()"
   ]
  },
  {
   "cell_type": "markdown",
   "id": "051f38d5-b0f9-4d4e-ab14-61e6d1cf7582",
   "metadata": {},
   "source": [
    "Chiamata in locale, può essere molto lenta"
   ]
  },
  {
   "cell_type": "code",
   "execution_count": null,
   "id": "47c7d9bf-f5d1-4704-9f4e-5c7114eab89f",
   "metadata": {},
   "outputs": [],
   "source": [
    "response =  ollama.chat(model=\"gemma3:1b\",\n",
    "                         messages=[\n",
    "                                    {\"role\": \"system\", \"content\": \"Sei un'assistente AI\"},\n",
    "                                    {\"role\": \"user\", \"content\": \"Qual è la capitale dell'italia\"}\n",
    "                                  ]\n",
    "                       )"
   ]
  },
  {
   "cell_type": "code",
   "execution_count": null,
   "id": "8207e6d5-59b1-4950-ad0a-5822e0ae5418",
   "metadata": {},
   "outputs": [],
   "source": [
    "print(response[\"message\"][\"content\"])"
   ]
  }
 ],
 "metadata": {
  "kernelspec": {
   "display_name": "Python 3 (ipykernel)",
   "language": "python",
   "name": "python3"
  },
  "language_info": {
   "codemirror_mode": {
    "name": "ipython",
    "version": 3
   },
   "file_extension": ".py",
   "mimetype": "text/x-python",
   "name": "python",
   "nbconvert_exporter": "python",
   "pygments_lexer": "ipython3",
   "version": "3.13.3"
  }
 },
 "nbformat": 4,
 "nbformat_minor": 5
}
