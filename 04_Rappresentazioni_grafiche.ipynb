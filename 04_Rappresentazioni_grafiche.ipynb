{
 "cells": [
  {
   "cell_type": "markdown",
   "id": "b4de978c-0b4a-4f98-9350-f5b19b40ef0d",
   "metadata": {},
   "source": [
    "# Rappresentazioni grafiche"
   ]
  },
  {
   "cell_type": "code",
   "execution_count": null,
   "id": "91542e77-3553-473e-9aa8-c6a61fd7e1b7",
   "metadata": {},
   "outputs": [],
   "source": [
    "import pandas as pd\n",
    "import numpy as np\n",
    "import matplotlib.pyplot as plt\n",
    "import seaborn as sns"
   ]
  },
  {
   "cell_type": "markdown",
   "id": "1e9dda6d-1b35-4e15-9f72-ed5c710122d4",
   "metadata": {},
   "source": [
    "Importiamo un dataset d'esempio sui dati del titanic con seaborn.\n",
    "\n",
    "Citazione:Hind, Philip. Encyclopedia Titanica."
   ]
  },
  {
   "cell_type": "code",
   "execution_count": null,
   "id": "049a605f-59cc-4ffa-8ceb-73c47c5a1c71",
   "metadata": {},
   "outputs": [],
   "source": [
    "titanic=sns.load_dataset(\"titanic\")"
   ]
  },
  {
   "cell_type": "code",
   "execution_count": null,
   "id": "bd01a2e2-f086-49f4-8c05-5a4b5156b4cf",
   "metadata": {},
   "outputs": [],
   "source": [
    "titanic.head(5)"
   ]
  },
  {
   "cell_type": "code",
   "execution_count": null,
   "id": "ea8bfbbb-14ba-4808-821d-ffe3e400b6ae",
   "metadata": {},
   "outputs": [],
   "source": [
    "titanic.info()"
   ]
  },
  {
   "cell_type": "markdown",
   "id": "46fbaa73-81d6-48ff-8278-537798b31a11",
   "metadata": {},
   "source": [
    "pclass-> classe del biglietto\n",
    "\n",
    "sibsp -> numero di fratelli/sorelle/coniugi\n",
    "\n",
    "parch -> numero genitori/figli\n",
    "\n",
    "deck -> ponte"
   ]
  },
  {
   "cell_type": "markdown",
   "id": "323d182a-cb81-410e-b421-9b7b6b8cb956",
   "metadata": {},
   "source": [
    "# Otteniamo le informazioni di statistica monovariata di base"
   ]
  },
  {
   "cell_type": "code",
   "execution_count": null,
   "id": "8a2da54a-97c0-45e2-822f-a3eee37eb9dd",
   "metadata": {},
   "outputs": [],
   "source": [
    "titanic.describe(include='all')"
   ]
  },
  {
   "cell_type": "markdown",
   "id": "c4b9860a-d9b8-4b65-a909-c14aedf5e7f2",
   "metadata": {},
   "source": [
    "# Otteniamo le informazioni di statistica bivariata di base"
   ]
  },
  {
   "cell_type": "code",
   "execution_count": null,
   "id": "ae56e27e-9eee-4b03-ad31-5069c842cfc9",
   "metadata": {},
   "outputs": [],
   "source": [
    "titanic.corr(numeric_only=True)\n",
    "#titanic.corr(numeric_only=True, method='spearman')"
   ]
  },
  {
   "cell_type": "code",
   "execution_count": null,
   "id": "36e4c124-288a-4104-b658-592b23ae9991",
   "metadata": {},
   "outputs": [],
   "source": [
    "titanic.corr(numeric_only=True)[[\"survived\"]].sort_values(by=\"survived\",ascending=False).\\\n",
    "        reset_index().query(\"index != 'survived'\")"
   ]
  },
  {
   "cell_type": "code",
   "execution_count": null,
   "id": "a29a5009-86a8-4e02-acb8-9f1d4ccbbdf9",
   "metadata": {},
   "outputs": [],
   "source": [
    "g = sns.heatmap(data = titanic.corr(numeric_only=True)[[\"survived\"]].sort_values(by=\"survived\",ascending=False).sort_values(by=\"survived\",ascending=False).reset_index().query(\"index != 'survived'\").set_index(\"index\"),\n",
    "                vmin=-1, \n",
    "                vmax=1, \n",
    "                annot=True, \n",
    "                fmt=\".1f\", \n",
    "                linewidth=.5, \n",
    "                cmap='coolwarm')"
   ]
  },
  {
   "cell_type": "markdown",
   "id": "661434fa-9ee8-448f-816c-f3d0292132d6",
   "metadata": {},
   "source": [
    "# Rappresentiamo una variabile nominale"
   ]
  },
  {
   "cell_type": "code",
   "execution_count": null,
   "id": "062a065e-d857-41f1-800d-bbfb804fa1d4",
   "metadata": {},
   "outputs": [],
   "source": [
    "titanic.head(5)"
   ]
  },
  {
   "cell_type": "code",
   "execution_count": null,
   "id": "6a0b5569-643b-4e92-9a0a-6c2b0464a4c0",
   "metadata": {},
   "outputs": [],
   "source": [
    "g = sns.catplot(data=titanic, x=\"embark_town\", kind=\"count\")"
   ]
  },
  {
   "cell_type": "code",
   "execution_count": null,
   "id": "6e3e1392-439d-4247-8728-c60428c43855",
   "metadata": {},
   "outputs": [],
   "source": [
    "g = sns.catplot(data=titanic, y=\"embark_town\", kind=\"count\")"
   ]
  },
  {
   "cell_type": "markdown",
   "id": "c0e2ab62-6e8e-49be-852c-361dc93bb6ba",
   "metadata": {},
   "source": [
    "# Rappresentiamo due variabili nominali"
   ]
  },
  {
   "cell_type": "code",
   "execution_count": null,
   "id": "99bea33b-8a9b-4db4-b932-1146e14cc92b",
   "metadata": {},
   "outputs": [],
   "source": [
    "for colonna in [\"embark_town\",\"class\",\"who\"]:\n",
    "    g = sns.catplot(\n",
    "        data=titanic, x=colonna, hue=\"survived\", kind=\"count\"\n",
    "        )"
   ]
  },
  {
   "cell_type": "markdown",
   "id": "633ce1aa-8bfe-48bb-8e19-0f29cfe5b28b",
   "metadata": {},
   "source": [
    "# Rappresentiamo una variabile quantitativa"
   ]
  },
  {
   "cell_type": "markdown",
   "id": "4be213dd-4d25-422d-87db-68edb86c9c99",
   "metadata": {},
   "source": [
    "## Boxplot"
   ]
  },
  {
   "cell_type": "code",
   "execution_count": null,
   "id": "7e187112-8459-435b-b098-20680407986d",
   "metadata": {},
   "outputs": [],
   "source": [
    "g = titanic.boxplot(column = \"age\")"
   ]
  },
  {
   "cell_type": "code",
   "execution_count": null,
   "id": "2ebd514e-236e-4dc3-b013-86f59d4d0aa0",
   "metadata": {},
   "outputs": [],
   "source": [
    "g = titanic.boxplot(column = \"fare\", figsize = (8,6))"
   ]
  },
  {
   "cell_type": "code",
   "execution_count": null,
   "id": "7ed0023e-c01b-4c37-bd2e-ab408a5e46d8",
   "metadata": {},
   "outputs": [],
   "source": [
    "titanic.query(\"fare > 500\")"
   ]
  },
  {
   "cell_type": "markdown",
   "id": "ed21c85c-ca7b-49cb-b010-0a1e42f807af",
   "metadata": {},
   "source": [
    "## Istogramma"
   ]
  },
  {
   "cell_type": "code",
   "execution_count": null,
   "id": "68d09572-4cd7-44f5-bd88-2d4f8a3ff4ee",
   "metadata": {},
   "outputs": [],
   "source": [
    "g = sns.histplot(data=titanic.query(\"survived==1\"), x=\"age\",kde=True)"
   ]
  },
  {
   "cell_type": "code",
   "execution_count": null,
   "id": "1ee69386-f9c4-48b0-84d5-b82c09e9f519",
   "metadata": {},
   "outputs": [],
   "source": [
    "g = sns.histplot(data=titanic, x=\"age\",kde=True,bins=5)"
   ]
  },
  {
   "cell_type": "code",
   "execution_count": null,
   "id": "af637904-39be-48b6-84e0-82152d25aaff",
   "metadata": {},
   "outputs": [],
   "source": [
    "g = sns.histplot(data=titanic, x=\"age\",kde=True,binwidth = 8)"
   ]
  },
  {
   "cell_type": "code",
   "execution_count": null,
   "id": "2ebcd902-91fa-483c-b3b3-016b1c4d9c1f",
   "metadata": {},
   "outputs": [],
   "source": [
    "g = sns.histplot(data=titanic, x=\"fare\")"
   ]
  },
  {
   "cell_type": "markdown",
   "id": "bfc52141-f7da-4974-a6a6-94affbd5d641",
   "metadata": {},
   "source": [
    "# Rappresentiamo due variabili quantitative"
   ]
  },
  {
   "cell_type": "code",
   "execution_count": null,
   "id": "c67136e5-c671-4cbb-9103-483092fd06a9",
   "metadata": {},
   "outputs": [],
   "source": [
    "g = sns.pairplot(data=titanic[[\"age\",\"fare\"]])"
   ]
  },
  {
   "cell_type": "markdown",
   "id": "cfd65056-a456-441b-aa90-ef65a6e88ddb",
   "metadata": {},
   "source": [
    "## Diagramma a dispersione"
   ]
  },
  {
   "cell_type": "code",
   "execution_count": null,
   "id": "a08278cc-ee61-4c63-b45c-72171910b768",
   "metadata": {
    "scrolled": true
   },
   "outputs": [],
   "source": [
    "for colonna in [\"fare\",\"pclass\"]: \n",
    "    g = sns.scatterplot(data=titanic, x=\"age\", y=colonna )"
   ]
  },
  {
   "cell_type": "markdown",
   "id": "ed9a927c-8bc8-431c-bb3a-586e9301e7ef",
   "metadata": {},
   "source": [
    "## Boxplot"
   ]
  },
  {
   "cell_type": "code",
   "execution_count": null,
   "id": "9eebb3cd-7332-4e8e-a82f-a0a7dba9bfbd",
   "metadata": {},
   "outputs": [],
   "source": [
    "g = titanic.boxplot(column = [\"age\",\"fare\"], figsize = (8,6))"
   ]
  },
  {
   "cell_type": "code",
   "execution_count": null,
   "id": "140bf39b-61e0-4fd3-9098-367d45b6977d",
   "metadata": {},
   "outputs": [],
   "source": [
    "g = titanic.drop([\"fare\",\"age\"],axis=1).boxplot(figsize = (10,8))"
   ]
  },
  {
   "cell_type": "markdown",
   "id": "3ef40e81-66e3-47d7-b595-0622d97639eb",
   "metadata": {},
   "source": [
    "## Istogramma"
   ]
  },
  {
   "cell_type": "code",
   "execution_count": null,
   "id": "1a271842-2bfa-42fd-b5d1-38d82f8f07b1",
   "metadata": {},
   "outputs": [],
   "source": [
    "g = sns.histplot(data=titanic[[\"age\",\"fare\"]])"
   ]
  },
  {
   "cell_type": "code",
   "execution_count": null,
   "id": "d67dd3c7-ab57-4842-86cc-c80edce956db",
   "metadata": {},
   "outputs": [],
   "source": [
    "g = sns.histplot(data=titanic, x=\"age\",y=\"fare\",  cbar=True)"
   ]
  },
  {
   "cell_type": "markdown",
   "id": "c5ed9094-28d1-4156-aec1-3360dcd88bae",
   "metadata": {},
   "source": [
    "# Rappresentazioni miste"
   ]
  },
  {
   "cell_type": "markdown",
   "id": "fae59c18-c433-4a7b-a952-ea167935ef57",
   "metadata": {},
   "source": [
    "Partendo da qui"
   ]
  },
  {
   "cell_type": "code",
   "execution_count": null,
   "id": "663daa99-1dac-4ff3-8edf-fd0dba902aa8",
   "metadata": {},
   "outputs": [],
   "source": [
    "g = sns.scatterplot(data=titanic, x=\"age\", y=\"fare\" )"
   ]
  },
  {
   "cell_type": "markdown",
   "id": "db0d3abc-e03f-46ba-a33f-c88bfc96eea9",
   "metadata": {},
   "source": [
    "aggiungiamo una qualitativa nello stesso grafico"
   ]
  },
  {
   "cell_type": "code",
   "execution_count": null,
   "id": "ce70ee12-9d55-4d9b-9ef8-dc44ea2ceaca",
   "metadata": {},
   "outputs": [],
   "source": [
    "g = sns.scatterplot(data=titanic, x=\"age\", y=\"fare\", hue=\"survived\" )"
   ]
  },
  {
   "cell_type": "markdown",
   "id": "ab07335a-e31a-4bf6-8204-9deed9c6bf9a",
   "metadata": {},
   "source": [
    "o splittando in grafico diversi"
   ]
  },
  {
   "cell_type": "code",
   "execution_count": null,
   "id": "6e7c8392-ac19-40a7-bd7d-6bf168dcba3c",
   "metadata": {},
   "outputs": [],
   "source": [
    "g = sns.relplot(x=\"age\", y=\"fare\", data=titanic, row=\"pclass\")"
   ]
  },
  {
   "cell_type": "markdown",
   "id": "3fabe8ad-6b2f-4325-88c1-5f296e22a8b5",
   "metadata": {},
   "source": [
    "Partendo da qui"
   ]
  },
  {
   "cell_type": "code",
   "execution_count": null,
   "id": "70665460-4e77-43af-ad02-a3e568625e9e",
   "metadata": {},
   "outputs": [],
   "source": [
    "g = sns.histplot(data=titanic, x=\"age\")"
   ]
  },
  {
   "cell_type": "markdown",
   "id": "f6bcd6e9-09a6-4ffe-9975-04ac2759ca3d",
   "metadata": {},
   "source": [
    "aggiungiamo una qualitativa così"
   ]
  },
  {
   "cell_type": "code",
   "execution_count": null,
   "id": "b72074fc-340e-4a0c-91d5-db001a9e092b",
   "metadata": {},
   "outputs": [],
   "source": [
    "g = sns.histplot(\n",
    "    data=titanic, x=\"age\", hue=\"embark_town\", multiple=\"stack\"\n",
    "    )"
   ]
  },
  {
   "cell_type": "markdown",
   "id": "6ecd6f35-92ad-4185-89fd-648960c2ee7f",
   "metadata": {},
   "source": [
    "oppure così"
   ]
  },
  {
   "cell_type": "code",
   "execution_count": null,
   "id": "b8ad87f8-eb7d-46e7-8aa8-db2e1a31adbe",
   "metadata": {},
   "outputs": [],
   "source": [
    "g = sns.histplot(\n",
    "    data=titanic, x=\"age\", hue=\"embark_town\", multiple=\"dodge\"\n",
    "    )"
   ]
  },
  {
   "cell_type": "markdown",
   "id": "8a465808-1382-4508-aebf-a1265c3cb47b",
   "metadata": {},
   "source": [
    "o al contrario"
   ]
  },
  {
   "cell_type": "code",
   "execution_count": null,
   "id": "a327543d-ed02-4ea8-a5bb-8529528e0052",
   "metadata": {},
   "outputs": [],
   "source": [
    "g = sns.catplot(data=titanic, x=\"survived\", y=\"fare\")"
   ]
  },
  {
   "cell_type": "markdown",
   "id": "c588b5f1-24d8-4fea-9940-871d6d4dc4c5",
   "metadata": {},
   "source": [
    "o se voglio i box plot\n",
    "\n"
   ]
  },
  {
   "cell_type": "code",
   "execution_count": null,
   "id": "d262ba77-79e7-48a9-99c5-c21c4f2d0e58",
   "metadata": {},
   "outputs": [],
   "source": [
    "g = titanic.boxplot(by ='embark_town', column =['age'], grid = False)"
   ]
  },
  {
   "cell_type": "markdown",
   "id": "7bb92740-8bb0-4f48-a0bc-70bd13c0c77f",
   "metadata": {},
   "source": [
    "se invece embark_town fosse una data..."
   ]
  },
  {
   "cell_type": "code",
   "execution_count": null,
   "id": "5c2a4a27-0ce9-42f9-adbd-ed6689992110",
   "metadata": {},
   "outputs": [],
   "source": [
    "g = sns.lineplot( data=titanic, x=\"embark_town\",  y=\"age\")"
   ]
  },
  {
   "cell_type": "markdown",
   "id": "99b68d48-d1d6-4c0a-a8aa-69a9564af8bf",
   "metadata": {},
   "source": [
    "# Esercitazione sul dataset penguins"
   ]
  },
  {
   "cell_type": "code",
   "execution_count": null,
   "id": "265046b4-0df3-4cf4-9618-dbc46709cae8",
   "metadata": {},
   "outputs": [],
   "source": [
    "import seaborn as sns\n",
    "import pandas as pd"
   ]
  },
  {
   "cell_type": "markdown",
   "id": "b2e08909-e021-46e4-b095-df7426f9e253",
   "metadata": {},
   "source": [
    "Importiamo tramite la libreria seaborn il dataset <b>penguins</b>\n",
    "\n",
    "Citazione: Gorman KB, Williams TD, Fraser WR (2014) Ecological Sexual Dimorphism and Environmental Variability within a Community of Antarctic Penguins (Genus Pygoscelis). PLoS ONE 9(3): e90081. doi:10.1371/journal.pone.0090081"
   ]
  },
  {
   "cell_type": "code",
   "execution_count": null,
   "id": "5cd2b8dc-9971-42c7-85af-9743fd457664",
   "metadata": {},
   "outputs": [],
   "source": [
    "penguins = sns.load_dataset(\"penguins\")"
   ]
  },
  {
   "cell_type": "markdown",
   "id": "e58b61d7-2320-4809-a1de-1143333defd3",
   "metadata": {},
   "source": [
    "Spiegazione variabili\n",
    "- species -> variabile target contente la specie del pinguino\n",
    "- island -> nome dell'isola\n",
    "- bill length -> lunghezza becco\n",
    "- bill_depth -> profondità becco\n",
    "- flipper length -> lunghezza pinna\n",
    "- body mass -> massa corporea\n",
    "- sex -> sesso"
   ]
  },
  {
   "cell_type": "code",
   "execution_count": null,
   "id": "f1af8311-6e17-49aa-91a5-bf7cca668573",
   "metadata": {},
   "outputs": [],
   "source": [
    "penguins.head(10)"
   ]
  },
  {
   "cell_type": "code",
   "execution_count": null,
   "id": "52ac7939-73d5-4b43-b80d-64ec30d15c2a",
   "metadata": {},
   "outputs": [],
   "source": [
    "penguins[[\"species\"]].drop_duplicates()"
   ]
  },
  {
   "cell_type": "markdown",
   "id": "a7214128-beb5-4c5a-974c-9a64cb141351",
   "metadata": {},
   "source": [
    "Iniziamo a ottenere informazione sui tipi e sul numero di null"
   ]
  },
  {
   "cell_type": "code",
   "execution_count": null,
   "id": "62710c94-dcee-43f0-95b0-8cdb9cbc8a68",
   "metadata": {},
   "outputs": [],
   "source": [
    "penguins.info()"
   ]
  },
  {
   "cell_type": "markdown",
   "id": "de62edef-299c-41c6-a671-049cd4ba51ef",
   "metadata": {},
   "source": [
    "e sulla statistica monovariata di base"
   ]
  },
  {
   "cell_type": "code",
   "execution_count": null,
   "id": "8bb391e4-ffac-4d25-ba97-3ed82d93da8d",
   "metadata": {},
   "outputs": [],
   "source": [
    "penguins.describe(include='all')"
   ]
  },
  {
   "cell_type": "markdown",
   "id": "abda72f3-1485-4377-8976-39cc3149eb7b",
   "metadata": {},
   "source": [
    "## Iniziamo a studiare la distribuzione della variabile target species"
   ]
  },
  {
   "cell_type": "code",
   "execution_count": null,
   "id": "8c0db1ae-f015-4995-982e-8852e973fb06",
   "metadata": {},
   "outputs": [],
   "source": [
    "penguins.groupby(by=\"species\").size()"
   ]
  },
  {
   "cell_type": "code",
   "execution_count": null,
   "id": "28dcd2d4-8de1-4fea-bad8-ae30cde24ff4",
   "metadata": {},
   "outputs": [],
   "source": [
    "g = sns.catplot(data=penguins, x=\"species\", kind=\"count\")"
   ]
  },
  {
   "cell_type": "markdown",
   "id": "e96bec35-c1aa-4b37-9c44-4257ff8ffa67",
   "metadata": {},
   "source": [
    "<b>Conclusioni</b>: abbiamo tre classi distinte, non distribuite uniformemente"
   ]
  },
  {
   "cell_type": "markdown",
   "id": "09c138eb-a60f-4d45-94dc-faa9959d4c8f",
   "metadata": {},
   "source": [
    "## Rappresentare con un opportuno grafico le relazioni tra le variabili species e island"
   ]
  },
  {
   "cell_type": "code",
   "execution_count": null,
   "id": "7a3dfa20-149f-46bb-9754-eebc47f8d526",
   "metadata": {},
   "outputs": [],
   "source": [
    "g = sns.catplot(\n",
    "    data=penguins, x=\"species\", hue=\"island\", kind=\"count\"\n",
    "    )"
   ]
  },
  {
   "cell_type": "code",
   "execution_count": null,
   "id": "ea3a3dd0-7199-4454-909f-cb7a8aa9c86c",
   "metadata": {},
   "outputs": [],
   "source": [
    "g = sns.catplot(\n",
    "    data=penguins, x=\"island\", hue=\"species\", kind=\"count\"\n",
    "    )"
   ]
  },
  {
   "cell_type": "markdown",
   "id": "abd83d55-6378-47c6-8026-f0d0311b57e7",
   "metadata": {},
   "source": [
    "<b>Conclusioni</b>:\n",
    "- la specie Gentoo vive solo sull'isola Biscoe\n",
    "- la specie Chinstrap vive solo sull'isola Dream\n",
    "- la specie Adelie vive in modo abbastanza uniforme su tutte e tre le isole\n",
    "\n",
    "Di conseguenza sull'isola Torgersen vivono solo pingiuini della specie Adelie.\n",
    "Sulle altre due isole vivono solo due specie alla volta, di cui una è sempre Torgersen"
   ]
  },
  {
   "cell_type": "markdown",
   "id": "10641b7d-fe40-4286-831f-549a3fdebcac",
   "metadata": {},
   "source": [
    "## Rappresentare con un opportuno grafico le relazioni tra le variabili species e il sesso"
   ]
  },
  {
   "cell_type": "code",
   "execution_count": null,
   "id": "488c562c-d46e-4bd1-8304-f403e85b7a00",
   "metadata": {},
   "outputs": [],
   "source": [
    "g = sns.catplot(\n",
    "    data=penguins, x=\"species\", hue=\"sex\", kind=\"count\"\n",
    "    )"
   ]
  },
  {
   "cell_type": "markdown",
   "id": "6aade57e-808d-43f1-98cf-d989d293c68d",
   "metadata": {},
   "source": [
    "<b>Conclusione</b>: \n",
    "Di ogni specie è presente praticamente lo stesso numero di maschi e femmine. Il sesso non sembra dunque una variabile significativa per predire la specie, almeno considerata singolarmente (potrebbe diventare significativa se abbinata ad altre variabili)."
   ]
  },
  {
   "cell_type": "markdown",
   "id": "844832ef-1222-4ca7-bc46-34c12fb45f86",
   "metadata": {},
   "source": [
    "## Rappresentare le variabili numeriche per individuare outlier e correlazioni"
   ]
  },
  {
   "cell_type": "code",
   "execution_count": null,
   "id": "ebb8696c-3ac4-4b38-82c3-c96b0eefc327",
   "metadata": {},
   "outputs": [],
   "source": [
    "penguins[[\"body_mass_g\"]].boxplot()"
   ]
  },
  {
   "cell_type": "code",
   "execution_count": null,
   "id": "23eaadf7-61ad-4384-b6fc-5a92028a3f4c",
   "metadata": {},
   "outputs": [],
   "source": [
    "penguins[[\"bill_length_mm\",\"bill_depth_mm\",\"flipper_length_mm\"]].boxplot()"
   ]
  },
  {
   "cell_type": "code",
   "execution_count": null,
   "id": "d8b6da96-c321-454a-ad15-59206ead1e5c",
   "metadata": {},
   "outputs": [],
   "source": [
    "g = sns.pairplot(data=penguins[[\"bill_length_mm\",\"bill_depth_mm\",\"flipper_length_mm\",\"body_mass_g\"]])"
   ]
  },
  {
   "cell_type": "code",
   "execution_count": null,
   "id": "af7eeedd-e721-469a-95e1-8125ead2d757",
   "metadata": {},
   "outputs": [],
   "source": [
    "g = sns.heatmap(data = penguins.corr(numeric_only=True, method=\"spearman\"), vmin=-1, vmax=1, annot=True, fmt=\".1f\", linewidth=.5, cmap='coolwarm')"
   ]
  },
  {
   "cell_type": "code",
   "execution_count": null,
   "id": "055ff341-c0cf-43cf-b342-ac1ae8ac2882",
   "metadata": {},
   "outputs": [],
   "source": [
    "g = sns.heatmap(data = penguins.corr(numeric_only=True, method=\"pearson\"), vmin=-1, vmax=1, annot=True, fmt=\".1f\", linewidth=.5, cmap='coolwarm')"
   ]
  },
  {
   "cell_type": "markdown",
   "id": "1d17a281-b875-4396-9dc3-4afcc8d24f59",
   "metadata": {},
   "source": [
    "<b>Conclusioni:</b>\n",
    "\n",
    "i boxplot e gli istogrammi non mostrano la presenza di outlier significativi. La matrice di correlazione e i box plot mostrano una forte correlazione positiva tra :\n",
    "- le variabili flipper_length_mm e body_mass_g (lunghezza della pinna e massa corporea)\n",
    "- leggermente meno accentuata tra flipper_length_mm e bill_length_mm (lunghezza della pinna e lunghezza del becco)\n",
    "\n",
    "Si potrebbe pensare di effettuare dei test senza la variabile flipper_length_mm\n",
    "\n",
    "Notiamo invece che (un po' a sorpresa per me) non c'è correlazione tra lunghezza e profondità del becco (bill_length_mm e bill_depth_mm)"
   ]
  },
  {
   "cell_type": "markdown",
   "id": "f285386a-cce3-4371-a398-e4c50a640e6f",
   "metadata": {},
   "source": [
    "## Rappresentare con un opportuno grafico le relazioni tra le variabili species e la lunghezza del becco"
   ]
  },
  {
   "cell_type": "code",
   "execution_count": null,
   "id": "703f09f0-19dc-4e16-aa60-414c962e2314",
   "metadata": {},
   "outputs": [],
   "source": [
    "g = sns.histplot(\n",
    "    data=penguins, x=\"bill_length_mm\", hue=\"species\", multiple=\"stack\"\n",
    "    )"
   ]
  },
  {
   "cell_type": "code",
   "execution_count": null,
   "id": "27f71f21-5154-4120-9f02-99aaa56225b0",
   "metadata": {},
   "outputs": [],
   "source": [
    "g = sns.catplot(data=penguins, x=\"species\", y=\"bill_length_mm\")"
   ]
  },
  {
   "cell_type": "code",
   "execution_count": null,
   "id": "f8e8875c-d965-4f08-ac4c-831c95f525bd",
   "metadata": {},
   "outputs": [],
   "source": [
    "g = penguins.boxplot(by ='species', column =['bill_length_mm'], grid = False)"
   ]
  },
  {
   "cell_type": "markdown",
   "id": "995fcc75-036d-46f2-9be7-29c450a82319",
   "metadata": {},
   "source": [
    "<b>Conclusioni:</b>\n",
    "\n",
    "I tre grafici mostrano in modo diverso la stessa conclusione: la lunghezza del becco si distribuisce in modo simile tra Chinstrap e Gentoo, ma in modo significativamente differente tra queste due specie e Adelie. La lunghezza dei becchi di Adelie è generalmente minore (solo Adelie ha becchi lunghi meno di 40mm, nessun Adelie ha becchi oltre 47mm circa, restano dei dubbi soltando in questo intervallo, soprattutto tra 42 e 45).\n",
    "\n",
    "Questa informazioni è molto importante in quanto può essere combinata a quanto già visto riguardo la relazione tra specie e isola! Chinstrap e Gentoo infatti vivono su isole diverse, all'interno della stessa isola convivono solo con Adelie e tra loro possono essere riconosciuti abbastanza bene dalla lunghezza del becco"
   ]
  },
  {
   "cell_type": "markdown",
   "id": "9603bcad-1b67-4dca-afe5-411b992214f3",
   "metadata": {},
   "source": [
    "## Rappresentare con un opportuno grafico le relazioni tra le variabili species e la profondità del becco"
   ]
  },
  {
   "cell_type": "code",
   "execution_count": null,
   "id": "6b02a96e-3028-4739-b4a9-c420ef4d9fa2",
   "metadata": {},
   "outputs": [],
   "source": [
    "g = sns.histplot(\n",
    "    data=penguins, x=\"bill_depth_mm\", hue=\"species\", multiple=\"stack\"\n",
    "    )"
   ]
  },
  {
   "cell_type": "code",
   "execution_count": null,
   "id": "dc18fb05-4556-4bb4-91bd-f64dcbf02a4d",
   "metadata": {},
   "outputs": [],
   "source": [
    "g = sns.catplot(data=penguins, x=\"species\", y=\"bill_depth_mm\")"
   ]
  },
  {
   "cell_type": "code",
   "execution_count": null,
   "id": "46d03a2e-f293-4542-b689-4aad7a6cee13",
   "metadata": {},
   "outputs": [],
   "source": [
    "g = penguins.boxplot(by ='species', column =['bill_depth_mm'], grid = False)"
   ]
  },
  {
   "cell_type": "markdown",
   "id": "4fc2b304-f839-4a6e-88ca-542383dab9c5",
   "metadata": {},
   "source": [
    "<b>Conclusioni:</b>\n",
    "\n",
    "In questo caso osserviamo che Adelie e Chinstrap hanno becchi di profondità simili, invece i valori per i Gentoo sono generalmente minori. Questo potrebbe dare agli algoritmi di Machine Learning un nuovo criterio di scelta tra le specie Gentoo e Adelie quando la lunghezza dei becchi è tra 40 e 47. Vediamo cosa succede per questo range dove c'era sovrapposizione tra le specie."
   ]
  },
  {
   "cell_type": "markdown",
   "id": "2576fa53-8cc2-4ac0-9c56-d6e4af91344f",
   "metadata": {},
   "source": [
    "Osserviamo che la specie Gentoo ha quasi sempre un becco di profondità inferiore"
   ]
  },
  {
   "cell_type": "code",
   "execution_count": null,
   "id": "0d9163c8-14de-4f01-b1ab-6ba24a65b99b",
   "metadata": {},
   "outputs": [],
   "source": []
  }
 ],
 "metadata": {
  "kernelspec": {
   "display_name": "Python 3 (ipykernel)",
   "language": "python",
   "name": "python3"
  },
  "language_info": {
   "codemirror_mode": {
    "name": "ipython",
    "version": 3
   },
   "file_extension": ".py",
   "mimetype": "text/x-python",
   "name": "python",
   "nbconvert_exporter": "python",
   "pygments_lexer": "ipython3",
   "version": "3.13.3"
  }
 },
 "nbformat": 4,
 "nbformat_minor": 5
}
