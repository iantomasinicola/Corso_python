{
 "cells": [
  {
   "cell_type": "markdown",
   "id": "2f38429f-1658-40a8-8fbd-29b095a4b24e",
   "metadata": {},
   "source": [
    "# Studiamo la condizione if"
   ]
  },
  {
   "cell_type": "markdown",
   "id": "5343b5c9-cf18-41b1-a4d5-224c7ace5a31",
   "metadata": {},
   "source": [
    "Con l'istruzione if possiamo eseguire soltanto porzioni di codice in base al verificarsi di una determinata condizione. \n",
    "\n",
    "Ecco un esempio: le istruzioni print(\"zero\") e print(\"numero negativo\") non saranno eseguite"
   ]
  },
  {
   "cell_type": "code",
   "execution_count": null,
   "id": "3b7d0ea7-3181-4b39-b02c-2bed8059992b",
   "metadata": {},
   "outputs": [],
   "source": [
    "x = 1\n",
    "if x>0:\n",
    "    print(\"numero positivo\")\n",
    "elif x == 0:\n",
    "    print(\"zero\")\n",
    "else:\n",
    "    print(\"numero negativo\")"
   ]
  },
  {
   "cell_type": "markdown",
   "id": "5a9e5246-16ec-488f-a40a-a8d9b3284dac",
   "metadata": {},
   "source": [
    "In questo caso. invece, l'istruzione print(\"numero positivo\") non sarà eseguita"
   ]
  },
  {
   "cell_type": "code",
   "execution_count": null,
   "id": "553ebc55-b957-4a98-a4d5-c2a10f594aa8",
   "metadata": {},
   "outputs": [],
   "source": [
    "x = -1\n",
    "if x>0:\n",
    "    print(\"numero positivo\")\n",
    "else:\n",
    "    print(\"numero negativo\")"
   ]
  },
  {
   "cell_type": "markdown",
   "id": "99545c3a-e892-4ccb-aea3-1c6b066b3e1d",
   "metadata": {},
   "source": [
    "Attenzione a questi tre codici simili. Studiare il risultato nei vari casi"
   ]
  },
  {
   "cell_type": "code",
   "execution_count": null,
   "id": "905a3f29-084c-493b-b4cc-f92127d91350",
   "metadata": {},
   "outputs": [],
   "source": [
    "x = 10\n",
    "if x > 5:\n",
    "    print(\"numero maggiore di 5\")\n",
    "elif x >= 0 :\n",
    "    print(\"numero maggiore o uguale a 0\")\n",
    "else:\n",
    "    print(\"numero negativo\")"
   ]
  },
  {
   "cell_type": "code",
   "execution_count": null,
   "id": "665aaa14-cf85-4aed-b31e-657d8c87f4e3",
   "metadata": {},
   "outputs": [],
   "source": [
    "x = 10\n",
    "if x >= 0:\n",
    "    print(\"numero maggiore o uguale a 0\")\n",
    "elif x > 5 :\n",
    "    print(\"numero maggiore di 5\")\n",
    "else:\n",
    "    print(\"numero negativo\")"
   ]
  },
  {
   "cell_type": "code",
   "execution_count": null,
   "id": "52e66929-d5b7-4e54-a970-2430b112452f",
   "metadata": {},
   "outputs": [],
   "source": [
    "x = 10\n",
    "if x > 5:\n",
    "    print(\"numero maggiore di 5\")\n",
    "if x >= 0:\n",
    "    print(\"numero maggiore o uguale a 0\")\n",
    "else:\n",
    "    print(\"numero negativo\")"
   ]
  },
  {
   "cell_type": "markdown",
   "id": "8d70473e-f530-4110-8187-68f51ab47b3a",
   "metadata": {},
   "source": [
    "# Studiamo la condizione while"
   ]
  },
  {
   "cell_type": "markdown",
   "id": "82d6adab-7363-47ca-9469-b068c7c1140a",
   "metadata": {},
   "source": [
    "Con l'istruzione while posso ripetere delle porzioni di codice più volte, fin quando resta verificata una determinata condizione espressa all'inizio del ciclo while."
   ]
  },
  {
   "cell_type": "markdown",
   "id": "d1bd9909-c6f1-4b79-8d8c-93d5605bc74e",
   "metadata": {},
   "source": [
    "Ad esempio questo codice ripeterà più volte l'istruzione x = input(\"Inserisci un numero\"), finquando non inseriremo un numero negativo"
   ]
  },
  {
   "cell_type": "code",
   "execution_count": null,
   "id": "e2a5011b-66c7-450e-853f-d9fb483a8081",
   "metadata": {},
   "outputs": [],
   "source": [
    "x = input(\"Inserisci un numero\")\n",
    "\n",
    "while int(x) >= 0:\n",
    "    x = input(\"Inserisci un numero\")\n",
    "\n",
    "print(\"hai interrotto il ciclo perché hai inserito un numero negativo\")"
   ]
  },
  {
   "cell_type": "markdown",
   "id": "18263440-49e1-4c62-90ca-3fc3b081dd00",
   "metadata": {},
   "source": [
    "# Break e continue all'interno del while"
   ]
  },
  {
   "cell_type": "markdown",
   "id": "aa7b0546-748f-4df6-9b5a-eef88c4f2a10",
   "metadata": {},
   "source": [
    "L'istruzione break provoca **immediatamente** l'uscita dal ciclo While, interrompando l'esecuzione corrente e annullando anche le eventuali successive."
   ]
  },
  {
   "cell_type": "markdown",
   "id": "5c7f28e9-fa01-43f4-98ce-037c43171801",
   "metadata": {},
   "source": [
    "Ad esempio il codice seguente stampa soltanto i valori 1, 2. Quando x è uguale a 3, la presenza del break provoca sia la fine dell'iterazione corrente e sia la fine dell'intero ciclo while, anche se la condizione x<=5 è ancora vera"
   ]
  },
  {
   "cell_type": "code",
   "execution_count": null,
   "id": "297e7fc3-0d43-4175-ab41-c2019351a67e",
   "metadata": {},
   "outputs": [],
   "source": [
    "x = 1\n",
    "while x<5:\n",
    "    if(x==3):\n",
    "        break\n",
    "    print(x)\n",
    "    x = x+1"
   ]
  },
  {
   "cell_type": "markdown",
   "id": "bf4aebbf-1f71-46c4-99b5-c39012291247",
   "metadata": {},
   "source": [
    "L'istruzione continue provoca soltanto l'interruzione dell'iterazione corrente. La condizione del while sarà nuovamente rivalutata. \n",
    "\n",
    "Ad esempio nel codice seguente saltiamo l'istruzione print(x) quando x è uguale a 3"
   ]
  },
  {
   "cell_type": "code",
   "execution_count": null,
   "id": "1880e2fc-6cfa-4b7c-afc8-544fddaf6b58",
   "metadata": {},
   "outputs": [],
   "source": [
    "x = 0\n",
    "while x<5:\n",
    "    x=x+1\n",
    "    if(x==3):\n",
    "        continue\n",
    "    print(x)\n"
   ]
  },
  {
   "cell_type": "markdown",
   "id": "afd3ae08-9085-4003-a2ce-89206ca26a36",
   "metadata": {},
   "source": [
    "Facciamo attenzione! **Potremmo incappare facilmente in codici di durata infinita**, come il seguente:\n",
    "\n",
    "x = 0\n",
    "\n",
    "while x<5:\n",
    "\n",
    "    if(x==3):\n",
    "        continue \n",
    "        \n",
    "    x=x+1\n",
    "\n",
    "Una volta arriviti a 3, entriamo in un loop infinito: la x non si incrementa per via del continue. D'altra parte il ciclo non finisce perché la x continua ad essere sempre minore di 5"
   ]
  },
  {
   "cell_type": "markdown",
   "id": "ca533dbb-1095-413a-98ab-c4038517c52a",
   "metadata": {},
   "source": [
    "# Gestione errori con try expect"
   ]
  },
  {
   "cell_type": "markdown",
   "id": "00593718-9046-4f3e-959e-f441aec02719",
   "metadata": {},
   "source": [
    "Se un'istruzione presente nel blocco try genera un errore, il codice passa immediatamente al blocco except, senza eseguire le istruzioni seguenti nel blocco try. \n",
    "\n",
    "Ad esempio nel caso seguente non verrà eseguita l'istruzione print(\"sono nel try\") a causa dell'errore generato dalla divisione per 0"
   ]
  },
  {
   "cell_type": "code",
   "execution_count": null,
   "id": "05be5319-fe7a-49fc-a650-3c28154da912",
   "metadata": {},
   "outputs": [],
   "source": [
    "try:\n",
    "    1/0\n",
    "    print(\"sono nel try\")\n",
    "except:\n",
    "    print(\"si è generato un errore\")"
   ]
  },
  {
   "cell_type": "markdown",
   "id": "3558a675-9f21-4cdb-bd6c-55b2c380ec08",
   "metadata": {},
   "source": [
    "Se le istruzioni del blocco try non generano errori, il blocco except non viene eseguito"
   ]
  },
  {
   "cell_type": "code",
   "execution_count": null,
   "id": "34f11ceb-fdf0-4219-965f-6d3a9809ab54",
   "metadata": {},
   "outputs": [],
   "source": [
    "try:\n",
    "    1/1\n",
    "    print(\"sono nel try\")\n",
    "except:\n",
    "    print(\"si è generato un errore\")"
   ]
  }
 ],
 "metadata": {
  "kernelspec": {
   "display_name": "Python 3 (ipykernel)",
   "language": "python",
   "name": "python3"
  },
  "language_info": {
   "codemirror_mode": {
    "name": "ipython",
    "version": 3
   },
   "file_extension": ".py",
   "mimetype": "text/x-python",
   "name": "python",
   "nbconvert_exporter": "python",
   "pygments_lexer": "ipython3",
   "version": "3.13.3"
  }
 },
 "nbformat": 4,
 "nbformat_minor": 5
}
